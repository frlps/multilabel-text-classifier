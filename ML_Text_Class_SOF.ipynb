{
 "cells": [
  {
   "cell_type": "markdown",
   "metadata": {},
   "source": [
    "# Multi Label Text Classifier"
   ]
  },
  {
   "cell_type": "markdown",
   "metadata": {},
   "source": [
    "## Import pandas"
   ]
  },
  {
   "cell_type": "code",
   "execution_count": 3,
   "metadata": {},
   "outputs": [
    {
     "name": "stdout",
     "output_type": "stream",
     "text": [
      "Collecting pandas\n",
      "  Using cached pandas-1.5.0-cp310-cp310-win_amd64.whl (10.4 MB)\n",
      "Requirement already satisfied: python-dateutil>=2.8.1 in c:\\users\\fsouz\\appdata\\roaming\\python\\python310\\site-packages (from pandas) (2.8.2)\n",
      "Requirement already satisfied: numpy>=1.21.0 in c:\\python310\\lib\\site-packages (from pandas) (1.23.4)\n",
      "Requirement already satisfied: pytz>=2020.1 in c:\\python310\\lib\\site-packages (from pandas) (2022.5)\n",
      "Requirement already satisfied: six>=1.5 in c:\\users\\fsouz\\appdata\\roaming\\python\\python310\\site-packages (from python-dateutil>=2.8.1->pandas) (1.16.0)\n",
      "Installing collected packages: pandas\n",
      "Successfully installed pandas-1.5.0\n"
     ]
    },
    {
     "name": "stderr",
     "output_type": "stream",
     "text": [
      "\n",
      "[notice] A new release of pip available: 22.2.2 -> 22.3\n",
      "[notice] To update, run: python.exe -m pip install --upgrade pip\n"
     ]
    }
   ],
   "source": [
    "#!pip install pandas"
   ]
  },
  {
   "cell_type": "code",
   "execution_count": 4,
   "metadata": {},
   "outputs": [],
   "source": [
    "import pandas as pd"
   ]
  },
  {
   "cell_type": "markdown",
   "metadata": {},
   "source": [
    "## Import Data Set"
   ]
  },
  {
   "cell_type": "code",
   "execution_count": 75,
   "metadata": {},
   "outputs": [
    {
     "data": {
      "text/html": [
       "<div>\n",
       "<style scoped>\n",
       "    .dataframe tbody tr th:only-of-type {\n",
       "        vertical-align: middle;\n",
       "    }\n",
       "\n",
       "    .dataframe tbody tr th {\n",
       "        vertical-align: top;\n",
       "    }\n",
       "\n",
       "    .dataframe thead th {\n",
       "        text-align: right;\n",
       "    }\n",
       "</style>\n",
       "<table border=\"1\" class=\"dataframe\">\n",
       "  <thead>\n",
       "    <tr style=\"text-align: right;\">\n",
       "      <th></th>\n",
       "      <th>Perguntas</th>\n",
       "      <th>Tags</th>\n",
       "    </tr>\n",
       "  </thead>\n",
       "  <tbody>\n",
       "    <tr>\n",
       "      <th>0</th>\n",
       "      <td>Possuo um projeto Node.js porém preciso criar ...</td>\n",
       "      <td>node.js</td>\n",
       "    </tr>\n",
       "    <tr>\n",
       "      <th>1</th>\n",
       "      <td>Gostaria de fazer testes unitários no Node.js,...</td>\n",
       "      <td>node.js</td>\n",
       "    </tr>\n",
       "    <tr>\n",
       "      <th>2</th>\n",
       "      <td>Como inverter a ordem com que o jQuery itera u...</td>\n",
       "      <td>jquery</td>\n",
       "    </tr>\n",
       "    <tr>\n",
       "      <th>3</th>\n",
       "      <td>Eu tenho uma página onde pretendo utilizar um ...</td>\n",
       "      <td>html</td>\n",
       "    </tr>\n",
       "    <tr>\n",
       "      <th>4</th>\n",
       "      <td>Como exibir os dados retornados do FireStore e...</td>\n",
       "      <td>html angular</td>\n",
       "    </tr>\n",
       "    <tr>\n",
       "      <th>5</th>\n",
       "      <td>Vi esse vídeo (link abaixo) e gostaria de cons...</td>\n",
       "      <td>html</td>\n",
       "    </tr>\n",
       "    <tr>\n",
       "      <th>6</th>\n",
       "      <td>Eu consigo fazer uma requisição de upload de u...</td>\n",
       "      <td>angular</td>\n",
       "    </tr>\n",
       "    <tr>\n",
       "      <th>7</th>\n",
       "      <td>Está apresentando o seguinte erro:  'ionic' nã...</td>\n",
       "      <td>node.js</td>\n",
       "    </tr>\n",
       "    <tr>\n",
       "      <th>8</th>\n",
       "      <td>Tenho um formulário reativo e eu preciso mostr...</td>\n",
       "      <td>angular</td>\n",
       "    </tr>\n",
       "    <tr>\n",
       "      <th>9</th>\n",
       "      <td>Eu estou com esse problema e não faço ideia de...</td>\n",
       "      <td>node.js</td>\n",
       "    </tr>\n",
       "    <tr>\n",
       "      <th>10</th>\n",
       "      <td>Estou retornando alguns parâmetros e preciso d...</td>\n",
       "      <td>angular</td>\n",
       "    </tr>\n",
       "    <tr>\n",
       "      <th>11</th>\n",
       "      <td>Tenho esse html que vou inserindo conforme pre...</td>\n",
       "      <td>jquery</td>\n",
       "    </tr>\n",
       "    <tr>\n",
       "      <th>12</th>\n",
       "      <td>Bem, estou desenvolvendo um app com o ionic 3 ...</td>\n",
       "      <td>node.js</td>\n",
       "    </tr>\n",
       "    <tr>\n",
       "      <th>13</th>\n",
       "      <td>Tenho um *ngFor que repete cards conforme o nu...</td>\n",
       "      <td>angular</td>\n",
       "    </tr>\n",
       "    <tr>\n",
       "      <th>14</th>\n",
       "      <td>Gostaria de saber como executar uma função em ...</td>\n",
       "      <td>jquery html</td>\n",
       "    </tr>\n",
       "    <tr>\n",
       "      <th>15</th>\n",
       "      <td>Bom eu queria que quando o usuário fosse se ca...</td>\n",
       "      <td>html</td>\n",
       "    </tr>\n",
       "    <tr>\n",
       "      <th>16</th>\n",
       "      <td>Tenho o seguinte mat-checkbox:  CODE   O segun...</td>\n",
       "      <td>angular</td>\n",
       "    </tr>\n",
       "    <tr>\n",
       "      <th>17</th>\n",
       "      <td>Tenho um campo de \"profissões\" que aparece den...</td>\n",
       "      <td>jquery</td>\n",
       "    </tr>\n",
       "    <tr>\n",
       "      <th>18</th>\n",
       "      <td>HTML:  CODE   CSS:  CODE   Javascript:  CODE  ...</td>\n",
       "      <td>html</td>\n",
       "    </tr>\n",
       "    <tr>\n",
       "      <th>19</th>\n",
       "      <td>Estou desenvolvendo uma aplicação com angular2...</td>\n",
       "      <td>angular</td>\n",
       "    </tr>\n",
       "    <tr>\n",
       "      <th>20</th>\n",
       "      <td>Tenho um formulário no qual é criado dinamicam...</td>\n",
       "      <td>jquery</td>\n",
       "    </tr>\n",
       "    <tr>\n",
       "      <th>21</th>\n",
       "      <td>Gostaria da ajuda nesse pequeno problema, tenh...</td>\n",
       "      <td>html</td>\n",
       "    </tr>\n",
       "    <tr>\n",
       "      <th>22</th>\n",
       "      <td>Bom a minha dúvida é a seguinte:  Eu tenho um ...</td>\n",
       "      <td>html</td>\n",
       "    </tr>\n",
       "    <tr>\n",
       "      <th>23</th>\n",
       "      <td>Introdução  Estou desenvolvendo uma estrutura ...</td>\n",
       "      <td>angular</td>\n",
       "    </tr>\n",
       "    <tr>\n",
       "      <th>24</th>\n",
       "      <td>Estou com um problema utilizando CODE  numa má...</td>\n",
       "      <td>html</td>\n",
       "    </tr>\n",
       "    <tr>\n",
       "      <th>25</th>\n",
       "      <td>Criei este FIDDLE como teste.  Tenho esta CODE...</td>\n",
       "      <td>jquery html</td>\n",
       "    </tr>\n",
       "    <tr>\n",
       "      <th>26</th>\n",
       "      <td>Cada vez mais, eu encontro artigos (em inglês ...</td>\n",
       "      <td>jquery</td>\n",
       "    </tr>\n",
       "    <tr>\n",
       "      <th>27</th>\n",
       "      <td>Pessoal estou tentando criar em uma imagem de ...</td>\n",
       "      <td>jquery html</td>\n",
       "    </tr>\n",
       "    <tr>\n",
       "      <th>28</th>\n",
       "      <td>Estou a tentar fazer um fullscreen scrolling w...</td>\n",
       "      <td>jquery html</td>\n",
       "    </tr>\n",
       "    <tr>\n",
       "      <th>29</th>\n",
       "      <td>Tenho uma tabela que vai adicionando de acordo...</td>\n",
       "      <td>jquery</td>\n",
       "    </tr>\n",
       "  </tbody>\n",
       "</table>\n",
       "</div>"
      ],
      "text/plain": [
       "                                            Perguntas           Tags\n",
       "0   Possuo um projeto Node.js porém preciso criar ...        node.js\n",
       "1   Gostaria de fazer testes unitários no Node.js,...        node.js\n",
       "2   Como inverter a ordem com que o jQuery itera u...         jquery\n",
       "3   Eu tenho uma página onde pretendo utilizar um ...           html\n",
       "4   Como exibir os dados retornados do FireStore e...  html angular \n",
       "5   Vi esse vídeo (link abaixo) e gostaria de cons...          html \n",
       "6   Eu consigo fazer uma requisição de upload de u...        angular\n",
       "7   Está apresentando o seguinte erro:  'ionic' nã...        node.js\n",
       "8   Tenho um formulário reativo e eu preciso mostr...        angular\n",
       "9   Eu estou com esse problema e não faço ideia de...        node.js\n",
       "10  Estou retornando alguns parâmetros e preciso d...        angular\n",
       "11  Tenho esse html que vou inserindo conforme pre...         jquery\n",
       "12  Bem, estou desenvolvendo um app com o ionic 3 ...        node.js\n",
       "13  Tenho um *ngFor que repete cards conforme o nu...       angular \n",
       "14  Gostaria de saber como executar uma função em ...  jquery html  \n",
       "15  Bom eu queria que quando o usuário fosse se ca...          html \n",
       "16  Tenho o seguinte mat-checkbox:  CODE   O segun...       angular \n",
       "17  Tenho um campo de \"profissões\" que aparece den...        jquery \n",
       "18  HTML:  CODE   CSS:  CODE   Javascript:  CODE  ...          html \n",
       "19  Estou desenvolvendo uma aplicação com angular2...        angular\n",
       "20  Tenho um formulário no qual é criado dinamicam...        jquery \n",
       "21  Gostaria da ajuda nesse pequeno problema, tenh...           html\n",
       "22  Bom a minha dúvida é a seguinte:  Eu tenho um ...           html\n",
       "23  Introdução  Estou desenvolvendo uma estrutura ...        angular\n",
       "24  Estou com um problema utilizando CODE  numa má...           html\n",
       "25  Criei este FIDDLE como teste.  Tenho esta CODE...    jquery html\n",
       "26  Cada vez mais, eu encontro artigos (em inglês ...         jquery\n",
       "27  Pessoal estou tentando criar em uma imagem de ...   jquery html \n",
       "28  Estou a tentar fazer um fullscreen scrolling w...    jquery html\n",
       "29  Tenho uma tabela que vai adicionando de acordo...         jquery"
      ]
     },
     "execution_count": 75,
     "metadata": {},
     "output_type": "execute_result"
    }
   ],
   "source": [
    "perguntas = pd.read_csv(\"stackoverflow_perguntas.csv\")\n",
    "perguntas.head(30)"
   ]
  },
  {
   "cell_type": "code",
   "execution_count": 6,
   "metadata": {},
   "outputs": [
    {
     "data": {
      "text/plain": [
       "count       5408\n",
       "unique        37\n",
       "top       jquery\n",
       "freq        1320\n",
       "Name: Tags, dtype: object"
      ]
     },
     "execution_count": 6,
     "metadata": {},
     "output_type": "execute_result"
    }
   ],
   "source": [
    "from itertools import count\n",
    "\n",
    "\n",
    "perguntas.Tags.describe()"
   ]
  },
  {
   "cell_type": "code",
   "execution_count": 7,
   "metadata": {},
   "outputs": [
    {
     "data": {
      "text/plain": [
       "array(['node.js', 'jquery', 'html', 'html angular ', 'html ', 'angular',\n",
       "       'angular ', 'jquery html  ', 'jquery ', 'jquery html',\n",
       "       'jquery html ', 'html angular', 'angular node.js ', 'html  ',\n",
       "       'jquery html angular', 'node.js ', 'html jquery', 'html jquery ',\n",
       "       'jquery angular  ', 'html node.js', 'jquery  ', 'angular node.js',\n",
       "       'jquery angular', 'html node.js ', 'jquery node.js ', 'angular  ',\n",
       "       'jquery angular ', 'jquery html angular ', 'node.js html ',\n",
       "       ' node.js', 'node.js html', 'html angular  ', 'jquery node.js',\n",
       "       'angular html', 'html angular  node.js', 'jquery html node.js',\n",
       "       'html angular node.js'], dtype=object)"
      ]
     },
     "execution_count": 7,
     "metadata": {},
     "output_type": "execute_result"
    }
   ],
   "source": [
    "perguntas.Tags.unique()"
   ]
  },
  {
   "cell_type": "markdown",
   "metadata": {},
   "source": [
    "## Encontrando as classes"
   ]
  },
  {
   "cell_type": "code",
   "execution_count": 38,
   "metadata": {},
   "outputs": [
    {
     "data": {
      "text/plain": [
       "['html', 'node.js', 'angular', 'jquery']"
      ]
     },
     "execution_count": 38,
     "metadata": {},
     "output_type": "execute_result"
    }
   ],
   "source": [
    "labels = set()\n",
    "\n",
    "#Slit separa exatamente pelo espaço\n",
    "for tags in perguntas.Tags.unique():\n",
    "    for tag in tags.split():\n",
    "        labels.add(tag)\n",
    "\n",
    "labels = list(labels)\n",
    "labels"
   ]
  },
  {
   "cell_type": "markdown",
   "metadata": {},
   "source": [
    "## One Hot Encoding para as classes"
   ]
  },
  {
   "cell_type": "code",
   "execution_count": 47,
   "metadata": {},
   "outputs": [],
   "source": [
    "def create_column(dataFrame, label):\n",
    "    listTargetInclude = list()\n",
    "    for line in perguntas.Tags:\n",
    "        if label in line:\n",
    "            listTargetInclude.append(1)\n",
    "        else:\n",
    "            listTargetInclude.append(0)\n",
    "    return listTargetInclude    "
   ]
  },
  {
   "cell_type": "code",
   "execution_count": 48,
   "metadata": {},
   "outputs": [
    {
     "data": {
      "text/plain": [
       "5408"
      ]
     },
     "execution_count": 48,
     "metadata": {},
     "output_type": "execute_result"
    }
   ],
   "source": [
    "listaTeste = create_column(perguntas,'node.js')\n",
    "len(listaTeste)"
   ]
  },
  {
   "cell_type": "code",
   "execution_count": 63,
   "metadata": {},
   "outputs": [],
   "source": [
    "def target_DF_construction(labels, dataframe):\n",
    "    print(labels)\n",
    "    '''O input labels deve ser uma lista de strings,\n",
    "        o data frame deve ser aquele que serão incluídas\n",
    "        as colunas de target do multilabel'''\n",
    "    for label in labels:\n",
    "        listToInclude = create_column(perguntas, label)\n",
    "        name = label\n",
    "        if name == 'node.js':\n",
    "            name = 'node_js'\n",
    "        dataframe[name] = listToInclude \n",
    "        \n",
    "    return dataframe"
   ]
  },
  {
   "cell_type": "code",
   "execution_count": 76,
   "metadata": {},
   "outputs": [
    {
     "name": "stdout",
     "output_type": "stream",
     "text": [
      "['html', 'node.js', 'angular', 'jquery']\n"
     ]
    },
    {
     "data": {
      "text/html": [
       "<div>\n",
       "<style scoped>\n",
       "    .dataframe tbody tr th:only-of-type {\n",
       "        vertical-align: middle;\n",
       "    }\n",
       "\n",
       "    .dataframe tbody tr th {\n",
       "        vertical-align: top;\n",
       "    }\n",
       "\n",
       "    .dataframe thead th {\n",
       "        text-align: right;\n",
       "    }\n",
       "</style>\n",
       "<table border=\"1\" class=\"dataframe\">\n",
       "  <thead>\n",
       "    <tr style=\"text-align: right;\">\n",
       "      <th></th>\n",
       "      <th>Perguntas</th>\n",
       "      <th>Tags</th>\n",
       "      <th>html</th>\n",
       "      <th>node.js</th>\n",
       "      <th>angular</th>\n",
       "      <th>jquery</th>\n",
       "    </tr>\n",
       "  </thead>\n",
       "  <tbody>\n",
       "    <tr>\n",
       "      <th>0</th>\n",
       "      <td>Possuo um projeto Node.js porém preciso criar ...</td>\n",
       "      <td>node.js</td>\n",
       "      <td>0</td>\n",
       "      <td>1</td>\n",
       "      <td>0</td>\n",
       "      <td>0</td>\n",
       "    </tr>\n",
       "    <tr>\n",
       "      <th>1</th>\n",
       "      <td>Gostaria de fazer testes unitários no Node.js,...</td>\n",
       "      <td>node.js</td>\n",
       "      <td>0</td>\n",
       "      <td>1</td>\n",
       "      <td>0</td>\n",
       "      <td>0</td>\n",
       "    </tr>\n",
       "    <tr>\n",
       "      <th>2</th>\n",
       "      <td>Como inverter a ordem com que o jQuery itera u...</td>\n",
       "      <td>jquery</td>\n",
       "      <td>0</td>\n",
       "      <td>0</td>\n",
       "      <td>0</td>\n",
       "      <td>1</td>\n",
       "    </tr>\n",
       "    <tr>\n",
       "      <th>3</th>\n",
       "      <td>Eu tenho uma página onde pretendo utilizar um ...</td>\n",
       "      <td>html</td>\n",
       "      <td>1</td>\n",
       "      <td>0</td>\n",
       "      <td>0</td>\n",
       "      <td>0</td>\n",
       "    </tr>\n",
       "    <tr>\n",
       "      <th>4</th>\n",
       "      <td>Como exibir os dados retornados do FireStore e...</td>\n",
       "      <td>html angular</td>\n",
       "      <td>1</td>\n",
       "      <td>0</td>\n",
       "      <td>1</td>\n",
       "      <td>0</td>\n",
       "    </tr>\n",
       "    <tr>\n",
       "      <th>...</th>\n",
       "      <td>...</td>\n",
       "      <td>...</td>\n",
       "      <td>...</td>\n",
       "      <td>...</td>\n",
       "      <td>...</td>\n",
       "      <td>...</td>\n",
       "    </tr>\n",
       "    <tr>\n",
       "      <th>5403</th>\n",
       "      <td>Queria saber como pegar o total de cores de um...</td>\n",
       "      <td>jquery html</td>\n",
       "      <td>1</td>\n",
       "      <td>0</td>\n",
       "      <td>0</td>\n",
       "      <td>1</td>\n",
       "    </tr>\n",
       "    <tr>\n",
       "      <th>5404</th>\n",
       "      <td>Boa noite, estou usando phonegap para fazer um...</td>\n",
       "      <td>html</td>\n",
       "      <td>1</td>\n",
       "      <td>0</td>\n",
       "      <td>0</td>\n",
       "      <td>0</td>\n",
       "    </tr>\n",
       "    <tr>\n",
       "      <th>5405</th>\n",
       "      <td>Estou construindo um mini fórum, e nele, os us...</td>\n",
       "      <td>jquery html</td>\n",
       "      <td>1</td>\n",
       "      <td>0</td>\n",
       "      <td>0</td>\n",
       "      <td>1</td>\n",
       "    </tr>\n",
       "    <tr>\n",
       "      <th>5406</th>\n",
       "      <td>Boa tarde,  Estou para desenvolver um site na ...</td>\n",
       "      <td>html</td>\n",
       "      <td>1</td>\n",
       "      <td>0</td>\n",
       "      <td>0</td>\n",
       "      <td>0</td>\n",
       "    </tr>\n",
       "    <tr>\n",
       "      <th>5407</th>\n",
       "      <td>Estou fazendo um hotsite, ele é one page, e é ...</td>\n",
       "      <td>jquery html</td>\n",
       "      <td>1</td>\n",
       "      <td>0</td>\n",
       "      <td>0</td>\n",
       "      <td>1</td>\n",
       "    </tr>\n",
       "  </tbody>\n",
       "</table>\n",
       "<p>5408 rows × 6 columns</p>\n",
       "</div>"
      ],
      "text/plain": [
       "                                              Perguntas           Tags  html  \\\n",
       "0     Possuo um projeto Node.js porém preciso criar ...        node.js     0   \n",
       "1     Gostaria de fazer testes unitários no Node.js,...        node.js     0   \n",
       "2     Como inverter a ordem com que o jQuery itera u...         jquery     0   \n",
       "3     Eu tenho uma página onde pretendo utilizar um ...           html     1   \n",
       "4     Como exibir os dados retornados do FireStore e...  html angular      1   \n",
       "...                                                 ...            ...   ...   \n",
       "5403  Queria saber como pegar o total de cores de um...   jquery html      1   \n",
       "5404  Boa noite, estou usando phonegap para fazer um...          html      1   \n",
       "5405  Estou construindo um mini fórum, e nele, os us...    jquery html     1   \n",
       "5406  Boa tarde,  Estou para desenvolver um site na ...           html     1   \n",
       "5407  Estou fazendo um hotsite, ele é one page, e é ...    jquery html     1   \n",
       "\n",
       "      node.js  angular  jquery  \n",
       "0           1        0       0  \n",
       "1           1        0       0  \n",
       "2           0        0       1  \n",
       "3           0        0       0  \n",
       "4           0        1       0  \n",
       "...       ...      ...     ...  \n",
       "5403        0        0       1  \n",
       "5404        0        0       0  \n",
       "5405        0        0       1  \n",
       "5406        0        0       0  \n",
       "5407        0        0       1  \n",
       "\n",
       "[5408 rows x 6 columns]"
      ]
     },
     "execution_count": 76,
     "metadata": {},
     "output_type": "execute_result"
    }
   ],
   "source": [
    "target_DF_construction(labels=labels, dataframe=perguntas)"
   ]
  },
  {
   "cell_type": "code",
   "execution_count": 72,
   "metadata": {},
   "outputs": [
    {
     "data": {
      "text/html": [
       "<div>\n",
       "<style scoped>\n",
       "    .dataframe tbody tr th:only-of-type {\n",
       "        vertical-align: middle;\n",
       "    }\n",
       "\n",
       "    .dataframe tbody tr th {\n",
       "        vertical-align: top;\n",
       "    }\n",
       "\n",
       "    .dataframe thead th {\n",
       "        text-align: right;\n",
       "    }\n",
       "</style>\n",
       "<table border=\"1\" class=\"dataframe\">\n",
       "  <thead>\n",
       "    <tr style=\"text-align: right;\">\n",
       "      <th></th>\n",
       "      <th>Perguntas</th>\n",
       "      <th>Tags</th>\n",
       "      <th>html</th>\n",
       "      <th>node.js</th>\n",
       "      <th>angular</th>\n",
       "      <th>jquery</th>\n",
       "    </tr>\n",
       "  </thead>\n",
       "  <tbody>\n",
       "    <tr>\n",
       "      <th>0</th>\n",
       "      <td>Possuo um projeto Node.js porém preciso criar ...</td>\n",
       "      <td>node.js</td>\n",
       "      <td>0</td>\n",
       "      <td>1</td>\n",
       "      <td>0</td>\n",
       "      <td>0</td>\n",
       "    </tr>\n",
       "    <tr>\n",
       "      <th>1</th>\n",
       "      <td>Gostaria de fazer testes unitários no Node.js,...</td>\n",
       "      <td>node.js</td>\n",
       "      <td>0</td>\n",
       "      <td>1</td>\n",
       "      <td>0</td>\n",
       "      <td>0</td>\n",
       "    </tr>\n",
       "    <tr>\n",
       "      <th>2</th>\n",
       "      <td>Como inverter a ordem com que o jQuery itera u...</td>\n",
       "      <td>jquery</td>\n",
       "      <td>0</td>\n",
       "      <td>0</td>\n",
       "      <td>0</td>\n",
       "      <td>1</td>\n",
       "    </tr>\n",
       "    <tr>\n",
       "      <th>3</th>\n",
       "      <td>Eu tenho uma página onde pretendo utilizar um ...</td>\n",
       "      <td>html</td>\n",
       "      <td>1</td>\n",
       "      <td>0</td>\n",
       "      <td>0</td>\n",
       "      <td>0</td>\n",
       "    </tr>\n",
       "    <tr>\n",
       "      <th>4</th>\n",
       "      <td>Como exibir os dados retornados do FireStore e...</td>\n",
       "      <td>html angular</td>\n",
       "      <td>1</td>\n",
       "      <td>0</td>\n",
       "      <td>1</td>\n",
       "      <td>0</td>\n",
       "    </tr>\n",
       "    <tr>\n",
       "      <th>5</th>\n",
       "      <td>Vi esse vídeo (link abaixo) e gostaria de cons...</td>\n",
       "      <td>html</td>\n",
       "      <td>1</td>\n",
       "      <td>0</td>\n",
       "      <td>0</td>\n",
       "      <td>0</td>\n",
       "    </tr>\n",
       "    <tr>\n",
       "      <th>6</th>\n",
       "      <td>Eu consigo fazer uma requisição de upload de u...</td>\n",
       "      <td>angular</td>\n",
       "      <td>0</td>\n",
       "      <td>0</td>\n",
       "      <td>1</td>\n",
       "      <td>0</td>\n",
       "    </tr>\n",
       "    <tr>\n",
       "      <th>7</th>\n",
       "      <td>Está apresentando o seguinte erro:  'ionic' nã...</td>\n",
       "      <td>node.js</td>\n",
       "      <td>0</td>\n",
       "      <td>1</td>\n",
       "      <td>0</td>\n",
       "      <td>0</td>\n",
       "    </tr>\n",
       "    <tr>\n",
       "      <th>8</th>\n",
       "      <td>Tenho um formulário reativo e eu preciso mostr...</td>\n",
       "      <td>angular</td>\n",
       "      <td>0</td>\n",
       "      <td>0</td>\n",
       "      <td>1</td>\n",
       "      <td>0</td>\n",
       "    </tr>\n",
       "    <tr>\n",
       "      <th>9</th>\n",
       "      <td>Eu estou com esse problema e não faço ideia de...</td>\n",
       "      <td>node.js</td>\n",
       "      <td>0</td>\n",
       "      <td>1</td>\n",
       "      <td>0</td>\n",
       "      <td>0</td>\n",
       "    </tr>\n",
       "    <tr>\n",
       "      <th>10</th>\n",
       "      <td>Estou retornando alguns parâmetros e preciso d...</td>\n",
       "      <td>angular</td>\n",
       "      <td>0</td>\n",
       "      <td>0</td>\n",
       "      <td>1</td>\n",
       "      <td>0</td>\n",
       "    </tr>\n",
       "    <tr>\n",
       "      <th>11</th>\n",
       "      <td>Tenho esse html que vou inserindo conforme pre...</td>\n",
       "      <td>jquery</td>\n",
       "      <td>0</td>\n",
       "      <td>0</td>\n",
       "      <td>0</td>\n",
       "      <td>1</td>\n",
       "    </tr>\n",
       "    <tr>\n",
       "      <th>12</th>\n",
       "      <td>Bem, estou desenvolvendo um app com o ionic 3 ...</td>\n",
       "      <td>node.js</td>\n",
       "      <td>0</td>\n",
       "      <td>1</td>\n",
       "      <td>0</td>\n",
       "      <td>0</td>\n",
       "    </tr>\n",
       "    <tr>\n",
       "      <th>13</th>\n",
       "      <td>Tenho um *ngFor que repete cards conforme o nu...</td>\n",
       "      <td>angular</td>\n",
       "      <td>0</td>\n",
       "      <td>0</td>\n",
       "      <td>1</td>\n",
       "      <td>0</td>\n",
       "    </tr>\n",
       "    <tr>\n",
       "      <th>14</th>\n",
       "      <td>Gostaria de saber como executar uma função em ...</td>\n",
       "      <td>jquery html</td>\n",
       "      <td>1</td>\n",
       "      <td>0</td>\n",
       "      <td>0</td>\n",
       "      <td>1</td>\n",
       "    </tr>\n",
       "    <tr>\n",
       "      <th>15</th>\n",
       "      <td>Bom eu queria que quando o usuário fosse se ca...</td>\n",
       "      <td>html</td>\n",
       "      <td>1</td>\n",
       "      <td>0</td>\n",
       "      <td>0</td>\n",
       "      <td>0</td>\n",
       "    </tr>\n",
       "    <tr>\n",
       "      <th>16</th>\n",
       "      <td>Tenho o seguinte mat-checkbox:  CODE   O segun...</td>\n",
       "      <td>angular</td>\n",
       "      <td>0</td>\n",
       "      <td>0</td>\n",
       "      <td>1</td>\n",
       "      <td>0</td>\n",
       "    </tr>\n",
       "    <tr>\n",
       "      <th>17</th>\n",
       "      <td>Tenho um campo de \"profissões\" que aparece den...</td>\n",
       "      <td>jquery</td>\n",
       "      <td>0</td>\n",
       "      <td>0</td>\n",
       "      <td>0</td>\n",
       "      <td>1</td>\n",
       "    </tr>\n",
       "    <tr>\n",
       "      <th>18</th>\n",
       "      <td>HTML:  CODE   CSS:  CODE   Javascript:  CODE  ...</td>\n",
       "      <td>html</td>\n",
       "      <td>1</td>\n",
       "      <td>0</td>\n",
       "      <td>0</td>\n",
       "      <td>0</td>\n",
       "    </tr>\n",
       "    <tr>\n",
       "      <th>19</th>\n",
       "      <td>Estou desenvolvendo uma aplicação com angular2...</td>\n",
       "      <td>angular</td>\n",
       "      <td>0</td>\n",
       "      <td>0</td>\n",
       "      <td>1</td>\n",
       "      <td>0</td>\n",
       "    </tr>\n",
       "    <tr>\n",
       "      <th>20</th>\n",
       "      <td>Tenho um formulário no qual é criado dinamicam...</td>\n",
       "      <td>jquery</td>\n",
       "      <td>0</td>\n",
       "      <td>0</td>\n",
       "      <td>0</td>\n",
       "      <td>1</td>\n",
       "    </tr>\n",
       "    <tr>\n",
       "      <th>21</th>\n",
       "      <td>Gostaria da ajuda nesse pequeno problema, tenh...</td>\n",
       "      <td>html</td>\n",
       "      <td>1</td>\n",
       "      <td>0</td>\n",
       "      <td>0</td>\n",
       "      <td>0</td>\n",
       "    </tr>\n",
       "    <tr>\n",
       "      <th>22</th>\n",
       "      <td>Bom a minha dúvida é a seguinte:  Eu tenho um ...</td>\n",
       "      <td>html</td>\n",
       "      <td>1</td>\n",
       "      <td>0</td>\n",
       "      <td>0</td>\n",
       "      <td>0</td>\n",
       "    </tr>\n",
       "    <tr>\n",
       "      <th>23</th>\n",
       "      <td>Introdução  Estou desenvolvendo uma estrutura ...</td>\n",
       "      <td>angular</td>\n",
       "      <td>0</td>\n",
       "      <td>0</td>\n",
       "      <td>1</td>\n",
       "      <td>0</td>\n",
       "    </tr>\n",
       "    <tr>\n",
       "      <th>24</th>\n",
       "      <td>Estou com um problema utilizando CODE  numa má...</td>\n",
       "      <td>html</td>\n",
       "      <td>1</td>\n",
       "      <td>0</td>\n",
       "      <td>0</td>\n",
       "      <td>0</td>\n",
       "    </tr>\n",
       "    <tr>\n",
       "      <th>25</th>\n",
       "      <td>Criei este FIDDLE como teste.  Tenho esta CODE...</td>\n",
       "      <td>jquery html</td>\n",
       "      <td>1</td>\n",
       "      <td>0</td>\n",
       "      <td>0</td>\n",
       "      <td>1</td>\n",
       "    </tr>\n",
       "    <tr>\n",
       "      <th>26</th>\n",
       "      <td>Cada vez mais, eu encontro artigos (em inglês ...</td>\n",
       "      <td>jquery</td>\n",
       "      <td>0</td>\n",
       "      <td>0</td>\n",
       "      <td>0</td>\n",
       "      <td>1</td>\n",
       "    </tr>\n",
       "    <tr>\n",
       "      <th>27</th>\n",
       "      <td>Pessoal estou tentando criar em uma imagem de ...</td>\n",
       "      <td>jquery html</td>\n",
       "      <td>1</td>\n",
       "      <td>0</td>\n",
       "      <td>0</td>\n",
       "      <td>1</td>\n",
       "    </tr>\n",
       "    <tr>\n",
       "      <th>28</th>\n",
       "      <td>Estou a tentar fazer um fullscreen scrolling w...</td>\n",
       "      <td>jquery html</td>\n",
       "      <td>1</td>\n",
       "      <td>0</td>\n",
       "      <td>0</td>\n",
       "      <td>1</td>\n",
       "    </tr>\n",
       "    <tr>\n",
       "      <th>29</th>\n",
       "      <td>Tenho uma tabela que vai adicionando de acordo...</td>\n",
       "      <td>jquery</td>\n",
       "      <td>0</td>\n",
       "      <td>0</td>\n",
       "      <td>0</td>\n",
       "      <td>1</td>\n",
       "    </tr>\n",
       "  </tbody>\n",
       "</table>\n",
       "</div>"
      ],
      "text/plain": [
       "                                            Perguntas           Tags  html  \\\n",
       "0   Possuo um projeto Node.js porém preciso criar ...        node.js     0   \n",
       "1   Gostaria de fazer testes unitários no Node.js,...        node.js     0   \n",
       "2   Como inverter a ordem com que o jQuery itera u...         jquery     0   \n",
       "3   Eu tenho uma página onde pretendo utilizar um ...           html     1   \n",
       "4   Como exibir os dados retornados do FireStore e...  html angular      1   \n",
       "5   Vi esse vídeo (link abaixo) e gostaria de cons...          html      1   \n",
       "6   Eu consigo fazer uma requisição de upload de u...        angular     0   \n",
       "7   Está apresentando o seguinte erro:  'ionic' nã...        node.js     0   \n",
       "8   Tenho um formulário reativo e eu preciso mostr...        angular     0   \n",
       "9   Eu estou com esse problema e não faço ideia de...        node.js     0   \n",
       "10  Estou retornando alguns parâmetros e preciso d...        angular     0   \n",
       "11  Tenho esse html que vou inserindo conforme pre...         jquery     0   \n",
       "12  Bem, estou desenvolvendo um app com o ionic 3 ...        node.js     0   \n",
       "13  Tenho um *ngFor que repete cards conforme o nu...       angular      0   \n",
       "14  Gostaria de saber como executar uma função em ...  jquery html       1   \n",
       "15  Bom eu queria que quando o usuário fosse se ca...          html      1   \n",
       "16  Tenho o seguinte mat-checkbox:  CODE   O segun...       angular      0   \n",
       "17  Tenho um campo de \"profissões\" que aparece den...        jquery      0   \n",
       "18  HTML:  CODE   CSS:  CODE   Javascript:  CODE  ...          html      1   \n",
       "19  Estou desenvolvendo uma aplicação com angular2...        angular     0   \n",
       "20  Tenho um formulário no qual é criado dinamicam...        jquery      0   \n",
       "21  Gostaria da ajuda nesse pequeno problema, tenh...           html     1   \n",
       "22  Bom a minha dúvida é a seguinte:  Eu tenho um ...           html     1   \n",
       "23  Introdução  Estou desenvolvendo uma estrutura ...        angular     0   \n",
       "24  Estou com um problema utilizando CODE  numa má...           html     1   \n",
       "25  Criei este FIDDLE como teste.  Tenho esta CODE...    jquery html     1   \n",
       "26  Cada vez mais, eu encontro artigos (em inglês ...         jquery     0   \n",
       "27  Pessoal estou tentando criar em uma imagem de ...   jquery html      1   \n",
       "28  Estou a tentar fazer um fullscreen scrolling w...    jquery html     1   \n",
       "29  Tenho uma tabela que vai adicionando de acordo...         jquery     0   \n",
       "\n",
       "    node.js  angular  jquery  \n",
       "0         1        0       0  \n",
       "1         1        0       0  \n",
       "2         0        0       1  \n",
       "3         0        0       0  \n",
       "4         0        1       0  \n",
       "5         0        0       0  \n",
       "6         0        1       0  \n",
       "7         1        0       0  \n",
       "8         0        1       0  \n",
       "9         1        0       0  \n",
       "10        0        1       0  \n",
       "11        0        0       1  \n",
       "12        1        0       0  \n",
       "13        0        1       0  \n",
       "14        0        0       1  \n",
       "15        0        0       0  \n",
       "16        0        1       0  \n",
       "17        0        0       1  \n",
       "18        0        0       0  \n",
       "19        0        1       0  \n",
       "20        0        0       1  \n",
       "21        0        0       0  \n",
       "22        0        0       0  \n",
       "23        0        1       0  \n",
       "24        0        0       0  \n",
       "25        0        0       1  \n",
       "26        0        0       1  \n",
       "27        0        0       1  \n",
       "28        0        0       1  \n",
       "29        0        0       1  "
      ]
     },
     "execution_count": 72,
     "metadata": {},
     "output_type": "execute_result"
    }
   ],
   "source": [
    "perguntas.head(30)"
   ]
  },
  {
   "cell_type": "markdown",
   "metadata": {},
   "source": [
    "## Dividindo DS para treino e teste "
   ]
  },
  {
   "cell_type": "code",
   "execution_count": 78,
   "metadata": {},
   "outputs": [
    {
     "name": "stdout",
     "output_type": "stream",
     "text": [
      "Collecting sklearn\n",
      "  Downloading sklearn-0.0.tar.gz (1.1 kB)\n",
      "  Preparing metadata (setup.py): started\n",
      "  Preparing metadata (setup.py): finished with status 'done'\n",
      "Collecting scikit-learn\n",
      "  Downloading scikit_learn-1.1.2-cp310-cp310-win_amd64.whl (7.4 MB)\n",
      "     ---------------------------------------- 7.4/7.4 MB 36.2 MB/s eta 0:00:00\n",
      "Requirement already satisfied: numpy>=1.17.3 in c:\\python310\\lib\\site-packages (from scikit-learn->sklearn) (1.23.4)\n",
      "Collecting joblib>=1.0.0\n",
      "  Downloading joblib-1.2.0-py3-none-any.whl (297 kB)\n",
      "     ------------------------------------- 298.0/298.0 kB 18.0 MB/s eta 0:00:00\n",
      "Collecting scipy>=1.3.2\n",
      "  Downloading scipy-1.9.2-cp310-cp310-win_amd64.whl (40.1 MB)\n",
      "     --------------------------------------- 40.1/40.1 MB 34.4 MB/s eta 0:00:00\n",
      "Collecting threadpoolctl>=2.0.0\n",
      "  Downloading threadpoolctl-3.1.0-py3-none-any.whl (14 kB)\n",
      "Using legacy 'setup.py install' for sklearn, since package 'wheel' is not installed.\n",
      "Installing collected packages: threadpoolctl, scipy, joblib, scikit-learn, sklearn\n",
      "  Running setup.py install for sklearn: started\n",
      "  Running setup.py install for sklearn: finished with status 'done'\n",
      "Successfully installed joblib-1.2.0 scikit-learn-1.1.2 scipy-1.9.2 sklearn-0.0 threadpoolctl-3.1.0\n"
     ]
    },
    {
     "name": "stderr",
     "output_type": "stream",
     "text": [
      "\n",
      "[notice] A new release of pip available: 22.2.2 -> 22.3\n",
      "[notice] To update, run: python.exe -m pip install --upgrade pip\n"
     ]
    }
   ],
   "source": [
    "!pip install sklearn"
   ]
  },
  {
   "cell_type": "code",
   "execution_count": 79,
   "metadata": {},
   "outputs": [],
   "source": [
    "from sklearn.model_selection import train_test_split"
   ]
  },
  {
   "cell_type": "markdown",
   "metadata": {},
   "source": [
    "### 'zipando' colunas multilabel para balanceamento de treino e teste"
   ]
  },
  {
   "cell_type": "markdown",
   "metadata": {},
   "source": [
    "#### Usando ZIP"
   ]
  },
  {
   "cell_type": "code",
   "execution_count": 81,
   "metadata": {},
   "outputs": [
    {
     "data": {
      "text/plain": [
       "[(1, 'a'), (2, 'b'), (3, 'c'), (4, 'd'), (5, 'e')]"
      ]
     },
     "execution_count": 81,
     "metadata": {},
     "output_type": "execute_result"
    }
   ],
   "source": [
    "list1 = [1,2,3,4,5]\n",
    "list2 = ['a','b','c','d','e']\n",
    "\n",
    "zip_list = zip(list1,list2)\n",
    "\n",
    "#Como o objeto zip é iterável\n",
    "list(zip_list)"
   ]
  },
  {
   "cell_type": "code",
   "execution_count": 99,
   "metadata": {},
   "outputs": [],
   "source": [
    "# def zip_df_columns(dataframe, labels):\n",
    "#     columns = list()\n",
    "#     for label in labels:\n",
    "#         columns.append(dataframe[label])\n",
    "#         print(columns)\n",
    "#     return list(zip(columns))"
   ]
  },
  {
   "cell_type": "code",
   "execution_count": 104,
   "metadata": {},
   "outputs": [
    {
     "data": {
      "text/plain": [
       "([(0, 1, 0, 0),\n",
       "  (0, 1, 0, 0),\n",
       "  (0, 0, 0, 1),\n",
       "  (1, 0, 0, 0),\n",
       "  (1, 0, 1, 0),\n",
       "  (1, 0, 0, 0),\n",
       "  (0, 0, 1, 0),\n",
       "  (0, 1, 0, 0),\n",
       "  (0, 0, 1, 0),\n",
       "  (0, 1, 0, 0),\n",
       "  (0, 0, 1, 0),\n",
       "  (0, 0, 0, 1),\n",
       "  (0, 1, 0, 0),\n",
       "  (0, 0, 1, 0),\n",
       "  (1, 0, 0, 1),\n",
       "  (1, 0, 0, 0),\n",
       "  (0, 0, 1, 0),\n",
       "  (0, 0, 0, 1),\n",
       "  (1, 0, 0, 0),\n",
       "  (0, 0, 1, 0),\n",
       "  (0, 0, 0, 1),\n",
       "  (1, 0, 0, 0),\n",
       "  (1, 0, 0, 0),\n",
       "  (0, 0, 1, 0),\n",
       "  (1, 0, 0, 0),\n",
       "  (1, 0, 0, 1),\n",
       "  (0, 0, 0, 1),\n",
       "  (1, 0, 0, 1),\n",
       "  (1, 0, 0, 1),\n",
       "  (0, 0, 0, 1),\n",
       "  (0, 0, 1, 0),\n",
       "  (1, 0, 0, 0),\n",
       "  (1, 0, 1, 0),\n",
       "  (1, 0, 1, 0),\n",
       "  (0, 0, 0, 1),\n",
       "  (1, 0, 0, 0),\n",
       "  (0, 0, 0, 1),\n",
       "  (1, 0, 0, 0),\n",
       "  (1, 0, 1, 0),\n",
       "  (0, 0, 0, 1),\n",
       "  (0, 0, 0, 1),\n",
       "  (1, 0, 0, 0),\n",
       "  (0, 0, 0, 1),\n",
       "  (1, 0, 0, 0),\n",
       "  (1, 0, 0, 0),\n",
       "  (0, 0, 0, 1),\n",
       "  (0, 0, 1, 0),\n",
       "  (0, 0, 0, 1),\n",
       "  (1, 0, 0, 1),\n",
       "  (1, 0, 0, 0),\n",
       "  (1, 0, 0, 1),\n",
       "  (0, 0, 0, 1),\n",
       "  (0, 0, 1, 0),\n",
       "  (1, 0, 0, 1),\n",
       "  (1, 0, 0, 0),\n",
       "  (0, 1, 0, 0),\n",
       "  (1, 0, 0, 1),\n",
       "  (0, 1, 0, 0),\n",
       "  (0, 0, 0, 1),\n",
       "  (1, 0, 0, 1),\n",
       "  (0, 0, 1, 0),\n",
       "  (0, 0, 0, 1),\n",
       "  (1, 0, 0, 0),\n",
       "  (1, 0, 0, 0),\n",
       "  (1, 0, 0, 1),\n",
       "  (0, 0, 0, 1),\n",
       "  (0, 0, 0, 1),\n",
       "  (1, 0, 0, 0),\n",
       "  (0, 0, 0, 1),\n",
       "  (1, 0, 0, 1),\n",
       "  (0, 0, 0, 1),\n",
       "  (1, 0, 0, 0),\n",
       "  (1, 0, 0, 0),\n",
       "  (0, 0, 0, 1),\n",
       "  (0, 0, 0, 1),\n",
       "  (1, 0, 0, 0),\n",
       "  (0, 1, 0, 0),\n",
       "  (1, 0, 1, 0),\n",
       "  (0, 0, 0, 1),\n",
       "  (1, 0, 0, 0),\n",
       "  (1, 0, 0, 1),\n",
       "  (1, 0, 0, 1),\n",
       "  (0, 0, 0, 1),\n",
       "  (0, 0, 0, 1),\n",
       "  (1, 0, 0, 0),\n",
       "  (0, 0, 1, 0),\n",
       "  (1, 0, 0, 0),\n",
       "  (0, 0, 0, 1),\n",
       "  (1, 0, 0, 1),\n",
       "  (1, 0, 0, 1),\n",
       "  (0, 1, 1, 0),\n",
       "  (1, 0, 0, 0),\n",
       "  (1, 0, 0, 0),\n",
       "  (0, 0, 0, 1),\n",
       "  (0, 0, 0, 1),\n",
       "  (0, 0, 1, 0),\n",
       "  (1, 0, 0, 1),\n",
       "  (0, 0, 0, 1),\n",
       "  (0, 0, 0, 1),\n",
       "  (1, 0, 0, 0),\n",
       "  (0, 1, 0, 0),\n",
       "  (1, 0, 0, 0),\n",
       "  (1, 0, 0, 0),\n",
       "  (0, 0, 0, 1),\n",
       "  (1, 0, 0, 1),\n",
       "  (1, 0, 0, 0),\n",
       "  (1, 0, 0, 1),\n",
       "  (1, 0, 0, 1),\n",
       "  (0, 0, 0, 1),\n",
       "  (0, 0, 0, 1),\n",
       "  (0, 0, 0, 1),\n",
       "  (0, 0, 0, 1),\n",
       "  (1, 0, 0, 0),\n",
       "  (0, 0, 0, 1),\n",
       "  (1, 0, 0, 0),\n",
       "  (1, 0, 0, 0),\n",
       "  (0, 0, 1, 0),\n",
       "  (1, 0, 0, 0),\n",
       "  (0, 1, 0, 0),\n",
       "  (0, 0, 0, 1),\n",
       "  (0, 0, 0, 1),\n",
       "  (0, 0, 0, 1),\n",
       "  (0, 1, 0, 0),\n",
       "  (0, 0, 0, 1),\n",
       "  (0, 0, 0, 1),\n",
       "  (1, 0, 0, 1),\n",
       "  (1, 0, 0, 1),\n",
       "  (1, 0, 0, 1),\n",
       "  (0, 0, 0, 1),\n",
       "  (0, 0, 0, 1),\n",
       "  (0, 0, 1, 0),\n",
       "  (1, 0, 0, 1),\n",
       "  (0, 0, 1, 0),\n",
       "  (0, 0, 0, 1),\n",
       "  (1, 0, 0, 1),\n",
       "  (1, 0, 0, 0),\n",
       "  (1, 0, 0, 0),\n",
       "  (1, 0, 0, 0),\n",
       "  (0, 0, 1, 0),\n",
       "  (1, 0, 0, 0),\n",
       "  (0, 0, 1, 0),\n",
       "  (1, 0, 0, 0),\n",
       "  (0, 0, 1, 0),\n",
       "  (1, 0, 0, 1),\n",
       "  (1, 0, 0, 0),\n",
       "  (1, 0, 1, 0),\n",
       "  (1, 0, 0, 0),\n",
       "  (1, 0, 0, 0),\n",
       "  (1, 0, 0, 0),\n",
       "  (1, 0, 0, 0),\n",
       "  (1, 0, 0, 0),\n",
       "  (1, 0, 0, 1),\n",
       "  (1, 0, 0, 0),\n",
       "  (1, 0, 0, 0),\n",
       "  (0, 0, 0, 1),\n",
       "  (0, 0, 0, 1),\n",
       "  (0, 0, 0, 1),\n",
       "  (0, 0, 1, 0),\n",
       "  (1, 0, 0, 1),\n",
       "  (0, 0, 0, 1),\n",
       "  (0, 0, 0, 1),\n",
       "  (0, 0, 0, 1),\n",
       "  (1, 0, 0, 1),\n",
       "  (1, 0, 0, 0),\n",
       "  (1, 0, 0, 0),\n",
       "  (1, 0, 0, 1),\n",
       "  (1, 0, 0, 0),\n",
       "  (1, 0, 0, 0),\n",
       "  (0, 0, 0, 1),\n",
       "  (1, 0, 0, 1),\n",
       "  (1, 0, 0, 1),\n",
       "  (0, 0, 1, 0),\n",
       "  (1, 0, 0, 0),\n",
       "  (0, 0, 0, 1),\n",
       "  (0, 0, 0, 1),\n",
       "  (1, 0, 0, 0),\n",
       "  (0, 0, 0, 1),\n",
       "  (1, 0, 0, 0),\n",
       "  (0, 0, 0, 1),\n",
       "  (1, 0, 0, 0),\n",
       "  (0, 1, 1, 0),\n",
       "  (1, 0, 0, 1),\n",
       "  (1, 0, 0, 1),\n",
       "  (1, 0, 0, 0),\n",
       "  (0, 0, 1, 0),\n",
       "  (1, 0, 0, 0),\n",
       "  (1, 0, 0, 1),\n",
       "  (0, 0, 0, 1),\n",
       "  (1, 0, 0, 0),\n",
       "  (1, 0, 0, 0),\n",
       "  (0, 0, 0, 1),\n",
       "  (1, 0, 1, 1),\n",
       "  (1, 0, 0, 1),\n",
       "  (0, 0, 0, 1),\n",
       "  (1, 0, 0, 0),\n",
       "  (0, 0, 0, 1),\n",
       "  (0, 0, 0, 1),\n",
       "  (0, 0, 0, 1),\n",
       "  (1, 0, 0, 0),\n",
       "  (1, 0, 0, 1),\n",
       "  (0, 0, 0, 1),\n",
       "  (1, 0, 0, 0),\n",
       "  (0, 0, 0, 1),\n",
       "  (0, 1, 0, 0),\n",
       "  (1, 0, 0, 1),\n",
       "  (0, 0, 0, 1),\n",
       "  (0, 0, 0, 1),\n",
       "  (0, 0, 0, 1),\n",
       "  (0, 0, 0, 1),\n",
       "  (1, 0, 0, 1),\n",
       "  (0, 0, 0, 1),\n",
       "  (1, 0, 0, 0),\n",
       "  (0, 0, 0, 1),\n",
       "  (0, 1, 0, 0),\n",
       "  (1, 0, 0, 0),\n",
       "  (1, 0, 0, 1),\n",
       "  (1, 0, 0, 1),\n",
       "  (0, 1, 0, 0),\n",
       "  (0, 1, 0, 0),\n",
       "  (0, 0, 0, 1),\n",
       "  (0, 0, 0, 1),\n",
       "  (0, 0, 0, 1),\n",
       "  (1, 0, 0, 1),\n",
       "  (1, 0, 0, 0),\n",
       "  (1, 0, 0, 1),\n",
       "  (1, 0, 0, 0),\n",
       "  (1, 0, 0, 0),\n",
       "  (0, 0, 0, 1),\n",
       "  (0, 1, 0, 0),\n",
       "  (1, 0, 0, 1),\n",
       "  (0, 0, 0, 1),\n",
       "  (0, 1, 0, 0),\n",
       "  (1, 0, 0, 0),\n",
       "  (0, 0, 1, 0),\n",
       "  (1, 0, 0, 0),\n",
       "  (0, 0, 1, 0),\n",
       "  (0, 0, 1, 0),\n",
       "  (0, 0, 0, 1),\n",
       "  (1, 0, 0, 0),\n",
       "  (0, 0, 0, 1),\n",
       "  (0, 0, 0, 1),\n",
       "  (1, 0, 0, 0),\n",
       "  (0, 0, 1, 0),\n",
       "  (0, 0, 0, 1),\n",
       "  (0, 0, 0, 1),\n",
       "  (0, 1, 0, 0),\n",
       "  (0, 1, 0, 0),\n",
       "  (0, 1, 0, 0),\n",
       "  (0, 0, 0, 1),\n",
       "  (0, 1, 0, 0),\n",
       "  (0, 0, 0, 1),\n",
       "  (1, 0, 1, 0),\n",
       "  (1, 0, 0, 0),\n",
       "  (1, 0, 0, 1),\n",
       "  (0, 0, 0, 1),\n",
       "  (0, 0, 0, 1),\n",
       "  (0, 0, 0, 1),\n",
       "  (0, 0, 0, 1),\n",
       "  (1, 0, 0, 0),\n",
       "  (1, 0, 0, 1),\n",
       "  (1, 0, 0, 0),\n",
       "  (0, 1, 0, 0),\n",
       "  (0, 0, 0, 1),\n",
       "  (1, 0, 0, 1),\n",
       "  (0, 1, 0, 0),\n",
       "  (0, 0, 0, 1),\n",
       "  (0, 0, 0, 1),\n",
       "  (1, 0, 0, 0),\n",
       "  (0, 0, 0, 1),\n",
       "  (0, 0, 1, 0),\n",
       "  (0, 0, 0, 1),\n",
       "  (0, 0, 0, 1),\n",
       "  (0, 0, 0, 1),\n",
       "  (1, 0, 0, 1),\n",
       "  (0, 0, 0, 1),\n",
       "  (1, 0, 0, 0),\n",
       "  (0, 0, 0, 1),\n",
       "  (1, 0, 0, 0),\n",
       "  (0, 1, 0, 0),\n",
       "  (1, 0, 0, 1),\n",
       "  (0, 1, 0, 0),\n",
       "  (1, 0, 0, 0),\n",
       "  (1, 0, 0, 1),\n",
       "  (0, 0, 0, 1),\n",
       "  (1, 0, 0, 0),\n",
       "  (1, 0, 0, 0),\n",
       "  (1, 0, 0, 1),\n",
       "  (1, 0, 0, 0),\n",
       "  (1, 0, 0, 0),\n",
       "  (0, 0, 0, 1),\n",
       "  (0, 1, 0, 0),\n",
       "  (1, 0, 0, 0),\n",
       "  (1, 0, 0, 0),\n",
       "  (1, 0, 0, 0),\n",
       "  (1, 0, 0, 0),\n",
       "  (1, 0, 0, 0),\n",
       "  (0, 1, 0, 0),\n",
       "  (0, 1, 0, 0),\n",
       "  (0, 0, 1, 0),\n",
       "  (1, 0, 1, 0),\n",
       "  (1, 0, 0, 0),\n",
       "  (1, 0, 1, 0),\n",
       "  (0, 0, 0, 1),\n",
       "  (1, 0, 0, 0),\n",
       "  (0, 0, 0, 1),\n",
       "  (0, 0, 0, 1),\n",
       "  (1, 0, 0, 0),\n",
       "  (0, 0, 1, 0),\n",
       "  (0, 0, 1, 0),\n",
       "  (0, 0, 1, 0),\n",
       "  (1, 0, 1, 0),\n",
       "  (0, 0, 0, 1),\n",
       "  (1, 0, 0, 0),\n",
       "  (0, 1, 0, 0),\n",
       "  (0, 0, 0, 1),\n",
       "  (0, 0, 0, 1),\n",
       "  (1, 0, 0, 1),\n",
       "  (1, 0, 0, 1),\n",
       "  (0, 1, 0, 0),\n",
       "  (0, 0, 1, 0),\n",
       "  (1, 0, 0, 0),\n",
       "  (0, 1, 0, 0),\n",
       "  (1, 0, 0, 0),\n",
       "  (1, 0, 0, 0),\n",
       "  (0, 0, 0, 1),\n",
       "  (0, 0, 1, 0),\n",
       "  (0, 0, 0, 1),\n",
       "  (0, 0, 1, 0),\n",
       "  (1, 0, 0, 0),\n",
       "  (0, 0, 0, 1),\n",
       "  (0, 0, 0, 1),\n",
       "  (1, 0, 0, 0),\n",
       "  (1, 0, 0, 0),\n",
       "  (1, 0, 0, 1),\n",
       "  (0, 0, 1, 0),\n",
       "  (0, 0, 1, 0),\n",
       "  (0, 0, 1, 0),\n",
       "  (0, 0, 0, 1),\n",
       "  (1, 0, 0, 0),\n",
       "  (0, 0, 0, 1),\n",
       "  (0, 0, 1, 0),\n",
       "  (0, 0, 0, 1),\n",
       "  (0, 0, 1, 0),\n",
       "  (0, 0, 1, 0),\n",
       "  (1, 0, 0, 0),\n",
       "  (0, 0, 1, 1),\n",
       "  (1, 0, 0, 0),\n",
       "  (0, 0, 1, 0),\n",
       "  (0, 0, 0, 1),\n",
       "  (0, 0, 1, 0),\n",
       "  (0, 0, 1, 0),\n",
       "  (1, 0, 0, 0),\n",
       "  (0, 0, 0, 1),\n",
       "  (0, 0, 0, 1),\n",
       "  (0, 0, 1, 0),\n",
       "  (0, 0, 1, 0),\n",
       "  (1, 1, 0, 0),\n",
       "  (0, 0, 1, 0),\n",
       "  (0, 0, 0, 1),\n",
       "  (1, 0, 0, 0),\n",
       "  (1, 0, 0, 1),\n",
       "  (0, 1, 0, 0),\n",
       "  (0, 0, 0, 1),\n",
       "  (1, 0, 0, 0),\n",
       "  (0, 0, 1, 0),\n",
       "  (1, 0, 0, 0),\n",
       "  (0, 1, 0, 0),\n",
       "  (0, 1, 0, 0),\n",
       "  (0, 0, 0, 1),\n",
       "  (0, 0, 0, 1),\n",
       "  (1, 0, 0, 0),\n",
       "  (0, 0, 0, 1),\n",
       "  (1, 0, 0, 0),\n",
       "  (1, 0, 0, 1),\n",
       "  (1, 0, 0, 0),\n",
       "  (0, 0, 0, 1),\n",
       "  (0, 1, 0, 0),\n",
       "  (0, 0, 1, 0),\n",
       "  (0, 0, 1, 0),\n",
       "  (1, 0, 0, 1),\n",
       "  (1, 0, 0, 0),\n",
       "  (1, 0, 0, 0),\n",
       "  (0, 0, 1, 0),\n",
       "  (0, 0, 1, 0),\n",
       "  (0, 0, 0, 1),\n",
       "  (1, 0, 0, 0),\n",
       "  (1, 0, 0, 0),\n",
       "  (1, 0, 0, 0),\n",
       "  (0, 0, 1, 0),\n",
       "  (0, 0, 0, 1),\n",
       "  (0, 0, 0, 1),\n",
       "  (0, 0, 1, 0),\n",
       "  (1, 0, 0, 1),\n",
       "  (1, 0, 0, 0),\n",
       "  (1, 0, 0, 0),\n",
       "  (1, 0, 0, 1),\n",
       "  (0, 0, 0, 1),\n",
       "  (0, 0, 0, 1),\n",
       "  (0, 0, 0, 1),\n",
       "  (1, 0, 0, 0),\n",
       "  (1, 0, 0, 0),\n",
       "  (1, 0, 0, 1),\n",
       "  (1, 0, 0, 1),\n",
       "  (1, 0, 0, 1),\n",
       "  (0, 0, 1, 0),\n",
       "  (1, 0, 0, 1),\n",
       "  (0, 0, 0, 1),\n",
       "  (0, 0, 0, 1),\n",
       "  (0, 1, 0, 0),\n",
       "  (0, 0, 1, 0),\n",
       "  (0, 0, 1, 0),\n",
       "  (1, 0, 0, 0),\n",
       "  (0, 0, 0, 1),\n",
       "  (1, 0, 0, 1),\n",
       "  (1, 0, 0, 0),\n",
       "  (0, 0, 0, 1),\n",
       "  (0, 0, 0, 1),\n",
       "  (1, 0, 0, 0),\n",
       "  (1, 0, 0, 0),\n",
       "  (0, 0, 0, 1),\n",
       "  (1, 0, 0, 0),\n",
       "  (0, 0, 0, 1),\n",
       "  (0, 0, 0, 1),\n",
       "  (1, 0, 0, 0),\n",
       "  (1, 0, 0, 0),\n",
       "  (0, 0, 0, 1),\n",
       "  (0, 0, 0, 1),\n",
       "  (1, 0, 0, 1),\n",
       "  (1, 0, 1, 0),\n",
       "  (0, 0, 0, 1),\n",
       "  (0, 1, 0, 0),\n",
       "  (0, 0, 0, 1),\n",
       "  (0, 0, 1, 0),\n",
       "  (0, 1, 0, 0),\n",
       "  (0, 0, 1, 0),\n",
       "  (1, 0, 0, 0),\n",
       "  (0, 1, 0, 0),\n",
       "  (0, 0, 0, 1),\n",
       "  (0, 0, 1, 0),\n",
       "  (0, 0, 0, 1),\n",
       "  (1, 0, 0, 0),\n",
       "  (0, 0, 0, 1),\n",
       "  (1, 0, 0, 1),\n",
       "  (1, 0, 1, 0),\n",
       "  (0, 1, 0, 0),\n",
       "  (0, 1, 0, 0),\n",
       "  (0, 1, 0, 0),\n",
       "  (0, 0, 1, 0),\n",
       "  (0, 1, 0, 0),\n",
       "  (0, 0, 0, 1),\n",
       "  (0, 0, 0, 1),\n",
       "  (0, 1, 0, 0),\n",
       "  (1, 0, 0, 1),\n",
       "  (1, 0, 0, 0),\n",
       "  (1, 0, 0, 1),\n",
       "  (0, 1, 0, 0),\n",
       "  (0, 0, 0, 1),\n",
       "  (0, 0, 1, 0),\n",
       "  (0, 0, 0, 1),\n",
       "  (1, 0, 0, 0),\n",
       "  (0, 0, 0, 1),\n",
       "  (0, 0, 0, 1),\n",
       "  (0, 0, 0, 1),\n",
       "  (0, 0, 0, 1),\n",
       "  (1, 0, 0, 1),\n",
       "  (0, 0, 0, 1),\n",
       "  (0, 1, 0, 0),\n",
       "  (0, 0, 0, 1),\n",
       "  (0, 0, 1, 0),\n",
       "  (1, 0, 0, 1),\n",
       "  (1, 0, 0, 0),\n",
       "  (0, 0, 1, 0),\n",
       "  (1, 0, 0, 0),\n",
       "  (1, 0, 0, 0),\n",
       "  (1, 0, 0, 1),\n",
       "  (1, 0, 0, 0),\n",
       "  (1, 0, 1, 0),\n",
       "  (0, 0, 0, 1),\n",
       "  (1, 0, 0, 0),\n",
       "  (1, 0, 0, 0),\n",
       "  (1, 0, 0, 1),\n",
       "  (0, 0, 0, 1),\n",
       "  (1, 0, 0, 0),\n",
       "  (1, 0, 0, 0),\n",
       "  (1, 0, 0, 0),\n",
       "  (1, 0, 0, 0),\n",
       "  (1, 0, 0, 0),\n",
       "  (0, 0, 1, 0),\n",
       "  (0, 0, 0, 1),\n",
       "  (1, 1, 0, 0),\n",
       "  (0, 0, 0, 1),\n",
       "  (0, 0, 1, 0),\n",
       "  (0, 0, 1, 0),\n",
       "  (0, 0, 0, 1),\n",
       "  (0, 1, 0, 0),\n",
       "  (0, 0, 0, 1),\n",
       "  (1, 0, 0, 0),\n",
       "  (0, 0, 0, 1),\n",
       "  (1, 0, 0, 0),\n",
       "  (0, 0, 0, 1),\n",
       "  (0, 0, 0, 1),\n",
       "  (1, 0, 0, 0),\n",
       "  (0, 0, 0, 1),\n",
       "  (0, 0, 1, 0),\n",
       "  (0, 0, 1, 0),\n",
       "  (0, 0, 0, 1),\n",
       "  (0, 0, 0, 1),\n",
       "  (0, 0, 0, 1),\n",
       "  (1, 0, 0, 0),\n",
       "  (0, 0, 0, 1),\n",
       "  (0, 0, 0, 1),\n",
       "  (0, 1, 0, 0),\n",
       "  (1, 0, 0, 0),\n",
       "  (1, 0, 0, 1),\n",
       "  (0, 0, 1, 0),\n",
       "  (1, 0, 0, 1),\n",
       "  (0, 0, 0, 1),\n",
       "  (0, 0, 0, 1),\n",
       "  (0, 0, 0, 1),\n",
       "  (0, 0, 0, 1),\n",
       "  (1, 0, 0, 0),\n",
       "  (0, 0, 0, 1),\n",
       "  (1, 0, 0, 0),\n",
       "  (0, 0, 1, 0),\n",
       "  (1, 0, 0, 0),\n",
       "  (1, 0, 0, 1),\n",
       "  (0, 0, 0, 1),\n",
       "  (0, 0, 0, 1),\n",
       "  (0, 0, 0, 1),\n",
       "  (1, 0, 0, 1),\n",
       "  (0, 0, 0, 1),\n",
       "  (0, 0, 0, 1),\n",
       "  (0, 0, 0, 1),\n",
       "  (0, 0, 1, 0),\n",
       "  (1, 0, 0, 0),\n",
       "  (1, 0, 0, 0),\n",
       "  (1, 0, 0, 0),\n",
       "  (1, 0, 0, 0),\n",
       "  (1, 0, 0, 1),\n",
       "  (0, 1, 0, 0),\n",
       "  (0, 1, 0, 0),\n",
       "  (0, 0, 0, 1),\n",
       "  (0, 0, 0, 1),\n",
       "  (1, 0, 0, 1),\n",
       "  (0, 0, 0, 1),\n",
       "  (0, 0, 0, 1),\n",
       "  (1, 0, 0, 1),\n",
       "  (0, 0, 1, 0),\n",
       "  (1, 0, 0, 0),\n",
       "  (0, 0, 0, 1),\n",
       "  (0, 0, 0, 1),\n",
       "  (1, 0, 0, 0),\n",
       "  (0, 0, 0, 1),\n",
       "  (0, 1, 0, 0),\n",
       "  (0, 0, 0, 1),\n",
       "  (1, 0, 1, 0),\n",
       "  (0, 1, 0, 0),\n",
       "  (1, 0, 0, 0),\n",
       "  (0, 0, 0, 1),\n",
       "  (1, 0, 0, 0),\n",
       "  (1, 0, 0, 0),\n",
       "  (1, 0, 0, 0),\n",
       "  (0, 1, 0, 0),\n",
       "  (1, 0, 0, 1),\n",
       "  (1, 0, 0, 0),\n",
       "  (1, 0, 0, 0),\n",
       "  (0, 1, 0, 0),\n",
       "  (0, 0, 0, 1),\n",
       "  (1, 0, 0, 1),\n",
       "  (0, 0, 0, 1),\n",
       "  (0, 0, 1, 0),\n",
       "  (1, 0, 0, 0),\n",
       "  (1, 0, 0, 1),\n",
       "  (1, 0, 0, 0),\n",
       "  (1, 0, 0, 1),\n",
       "  (1, 0, 0, 0),\n",
       "  (0, 0, 1, 0),\n",
       "  (0, 0, 0, 1),\n",
       "  (0, 1, 0, 0),\n",
       "  (0, 1, 0, 0),\n",
       "  (0, 0, 0, 1),\n",
       "  (1, 0, 0, 0),\n",
       "  (1, 0, 0, 1),\n",
       "  (1, 0, 0, 0),\n",
       "  (1, 0, 0, 1),\n",
       "  (1, 0, 0, 0),\n",
       "  (1, 0, 0, 0),\n",
       "  (1, 0, 0, 1),\n",
       "  (0, 0, 1, 0),\n",
       "  (0, 0, 0, 1),\n",
       "  (0, 0, 0, 1),\n",
       "  (1, 0, 0, 1),\n",
       "  (1, 0, 0, 0),\n",
       "  (0, 0, 1, 0),\n",
       "  (0, 0, 0, 1),\n",
       "  (1, 0, 0, 0),\n",
       "  (1, 0, 0, 0),\n",
       "  (0, 1, 0, 0),\n",
       "  (1, 0, 0, 0),\n",
       "  (0, 1, 0, 0),\n",
       "  (1, 0, 0, 0),\n",
       "  (0, 1, 1, 0),\n",
       "  (0, 1, 0, 0),\n",
       "  (0, 0, 0, 1),\n",
       "  (1, 0, 0, 1),\n",
       "  (0, 0, 1, 0),\n",
       "  (0, 0, 1, 0),\n",
       "  (1, 0, 0, 0),\n",
       "  (1, 0, 0, 1),\n",
       "  (0, 0, 0, 1),\n",
       "  (0, 0, 1, 0),\n",
       "  (0, 0, 0, 1),\n",
       "  (1, 0, 0, 0),\n",
       "  (1, 0, 0, 0),\n",
       "  (0, 0, 1, 0),\n",
       "  (1, 0, 0, 0),\n",
       "  (0, 0, 1, 0),\n",
       "  (0, 1, 0, 0),\n",
       "  (1, 0, 0, 0),\n",
       "  (1, 0, 0, 0),\n",
       "  (0, 0, 0, 1),\n",
       "  (0, 1, 0, 0),\n",
       "  (1, 0, 0, 0),\n",
       "  (0, 0, 0, 1),\n",
       "  (1, 0, 0, 0),\n",
       "  (1, 0, 0, 1),\n",
       "  (1, 0, 0, 0),\n",
       "  (1, 0, 0, 0),\n",
       "  (1, 0, 0, 1),\n",
       "  (0, 0, 0, 1),\n",
       "  (1, 0, 0, 0),\n",
       "  (0, 0, 0, 1),\n",
       "  (1, 0, 0, 1),\n",
       "  (1, 0, 0, 1),\n",
       "  (0, 1, 1, 0),\n",
       "  (0, 0, 0, 1),\n",
       "  (0, 0, 0, 1),\n",
       "  (0, 0, 0, 1),\n",
       "  (0, 0, 1, 0),\n",
       "  (1, 0, 0, 1),\n",
       "  (0, 0, 0, 1),\n",
       "  (0, 0, 0, 1),\n",
       "  (1, 0, 0, 0),\n",
       "  (0, 0, 1, 0),\n",
       "  (1, 0, 0, 0),\n",
       "  (1, 0, 0, 0),\n",
       "  (0, 0, 0, 1),\n",
       "  (0, 0, 0, 1),\n",
       "  (0, 1, 0, 0),\n",
       "  (1, 0, 0, 0),\n",
       "  (0, 0, 1, 0),\n",
       "  (0, 0, 1, 0),\n",
       "  (0, 0, 1, 1),\n",
       "  (1, 0, 0, 0),\n",
       "  (1, 1, 0, 0),\n",
       "  (1, 0, 0, 0),\n",
       "  (1, 0, 0, 1),\n",
       "  (0, 0, 0, 1),\n",
       "  (1, 0, 0, 0),\n",
       "  (0, 0, 1, 0),\n",
       "  (0, 0, 0, 1),\n",
       "  (1, 0, 0, 0),\n",
       "  (0, 0, 0, 1),\n",
       "  (1, 0, 0, 1),\n",
       "  (0, 1, 0, 1),\n",
       "  (1, 0, 0, 0),\n",
       "  (0, 0, 0, 1),\n",
       "  (0, 0, 1, 0),\n",
       "  (0, 0, 1, 0),\n",
       "  (0, 0, 0, 1),\n",
       "  (1, 0, 0, 1),\n",
       "  (1, 0, 0, 0),\n",
       "  (0, 1, 0, 0),\n",
       "  (1, 0, 0, 1),\n",
       "  (0, 0, 0, 1),\n",
       "  (1, 0, 0, 0),\n",
       "  (1, 0, 0, 1),\n",
       "  (0, 0, 1, 0),\n",
       "  (0, 0, 0, 1),\n",
       "  (0, 0, 0, 1),\n",
       "  (0, 0, 1, 0),\n",
       "  (0, 1, 0, 0),\n",
       "  (1, 0, 0, 1),\n",
       "  (1, 0, 0, 0),\n",
       "  (0, 1, 0, 0),\n",
       "  (1, 0, 0, 1),\n",
       "  (0, 0, 0, 1),\n",
       "  (0, 0, 1, 0),\n",
       "  (0, 1, 0, 0),\n",
       "  (1, 0, 0, 0),\n",
       "  (0, 0, 0, 1),\n",
       "  (0, 0, 0, 1),\n",
       "  (0, 0, 0, 1),\n",
       "  (1, 0, 0, 0),\n",
       "  (0, 0, 1, 0),\n",
       "  (1, 0, 0, 1),\n",
       "  (1, 0, 0, 0),\n",
       "  (0, 1, 0, 0),\n",
       "  (0, 1, 0, 0),\n",
       "  (0, 0, 1, 0),\n",
       "  (0, 0, 1, 1),\n",
       "  (0, 0, 0, 1),\n",
       "  (1, 0, 0, 0),\n",
       "  (0, 1, 0, 0),\n",
       "  (0, 0, 0, 1),\n",
       "  (0, 1, 0, 0),\n",
       "  (0, 0, 0, 1),\n",
       "  (1, 0, 0, 0),\n",
       "  (1, 0, 0, 0),\n",
       "  (0, 1, 0, 0),\n",
       "  (1, 0, 0, 1),\n",
       "  (0, 0, 0, 1),\n",
       "  (1, 0, 0, 0),\n",
       "  (1, 0, 1, 1),\n",
       "  (1, 0, 0, 0),\n",
       "  (1, 0, 1, 0),\n",
       "  (1, 0, 0, 0),\n",
       "  (0, 0, 0, 1),\n",
       "  (0, 0, 0, 1),\n",
       "  (1, 0, 0, 0),\n",
       "  (0, 0, 0, 1),\n",
       "  (0, 1, 0, 0),\n",
       "  (0, 1, 0, 0),\n",
       "  (0, 0, 0, 1),\n",
       "  (1, 0, 0, 0),\n",
       "  (0, 0, 1, 0),\n",
       "  (1, 0, 0, 1),\n",
       "  (1, 0, 0, 0),\n",
       "  (1, 0, 0, 0),\n",
       "  (0, 1, 1, 0),\n",
       "  (0, 0, 0, 1),\n",
       "  (1, 0, 0, 0),\n",
       "  (0, 0, 1, 0),\n",
       "  (1, 0, 0, 1),\n",
       "  (1, 0, 0, 0),\n",
       "  (1, 0, 0, 0),\n",
       "  (0, 0, 0, 1),\n",
       "  (0, 0, 1, 0),\n",
       "  (1, 0, 0, 0),\n",
       "  (0, 0, 0, 1),\n",
       "  (1, 0, 0, 1),\n",
       "  (1, 0, 0, 1),\n",
       "  (1, 0, 0, 0),\n",
       "  (0, 0, 0, 1),\n",
       "  (0, 0, 0, 1),\n",
       "  (1, 0, 0, 0),\n",
       "  (1, 0, 0, 0),\n",
       "  (1, 0, 0, 0),\n",
       "  (0, 0, 0, 1),\n",
       "  (0, 0, 0, 1),\n",
       "  (1, 0, 0, 1),\n",
       "  (0, 0, 1, 0),\n",
       "  (1, 0, 0, 1),\n",
       "  (0, 0, 1, 0),\n",
       "  (0, 0, 1, 0),\n",
       "  (0, 1, 0, 0),\n",
       "  (0, 0, 1, 0),\n",
       "  (0, 1, 0, 0),\n",
       "  (1, 0, 0, 0),\n",
       "  (0, 0, 0, 1),\n",
       "  (0, 1, 0, 0),\n",
       "  (0, 0, 1, 0),\n",
       "  (0, 0, 0, 1),\n",
       "  (0, 0, 0, 1),\n",
       "  (0, 0, 0, 1),\n",
       "  (1, 0, 0, 1),\n",
       "  (0, 0, 0, 1),\n",
       "  (1, 0, 0, 0),\n",
       "  (0, 1, 0, 0),\n",
       "  (0, 1, 0, 0),\n",
       "  (0, 0, 0, 1),\n",
       "  (0, 0, 0, 1),\n",
       "  (1, 0, 0, 0),\n",
       "  (0, 0, 1, 0),\n",
       "  (0, 1, 0, 0),\n",
       "  (0, 0, 1, 0),\n",
       "  (0, 0, 0, 1),\n",
       "  (0, 0, 0, 1),\n",
       "  (0, 0, 0, 1),\n",
       "  (0, 0, 0, 1),\n",
       "  (0, 0, 0, 1),\n",
       "  (1, 0, 0, 0),\n",
       "  (0, 1, 0, 0),\n",
       "  (0, 1, 1, 0),\n",
       "  (0, 0, 1, 0),\n",
       "  (1, 0, 1, 0),\n",
       "  (0, 0, 0, 1),\n",
       "  (1, 0, 0, 0),\n",
       "  (0, 1, 1, 0),\n",
       "  (0, 0, 0, 1),\n",
       "  (1, 0, 0, 0),\n",
       "  (0, 0, 1, 0),\n",
       "  (0, 0, 1, 0),\n",
       "  (1, 0, 0, 1),\n",
       "  (1, 0, 0, 1),\n",
       "  (1, 0, 0, 1),\n",
       "  (1, 0, 1, 0),\n",
       "  (0, 0, 1, 0),\n",
       "  (0, 0, 1, 0),\n",
       "  (0, 0, 0, 1),\n",
       "  (1, 0, 0, 0),\n",
       "  (0, 1, 0, 0),\n",
       "  (0, 0, 0, 1),\n",
       "  (1, 0, 0, 0),\n",
       "  (1, 0, 0, 0),\n",
       "  (1, 0, 0, 1),\n",
       "  (1, 0, 0, 0),\n",
       "  (1, 0, 0, 0),\n",
       "  (1, 0, 0, 1),\n",
       "  (1, 0, 0, 0),\n",
       "  (0, 0, 0, 1),\n",
       "  (1, 0, 1, 0),\n",
       "  (0, 1, 0, 0),\n",
       "  (1, 0, 0, 0),\n",
       "  (1, 0, 0, 0),\n",
       "  (0, 1, 0, 0),\n",
       "  (0, 0, 1, 0),\n",
       "  (1, 0, 0, 0),\n",
       "  (1, 0, 0, 0),\n",
       "  (1, 0, 0, 1),\n",
       "  (1, 0, 0, 0),\n",
       "  (0, 0, 1, 1),\n",
       "  (0, 0, 0, 1),\n",
       "  (0, 1, 0, 0),\n",
       "  (1, 0, 0, 0),\n",
       "  (1, 0, 0, 0),\n",
       "  (0, 0, 1, 0),\n",
       "  (0, 0, 0, 1),\n",
       "  (1, 0, 0, 0),\n",
       "  (1, 0, 0, 1),\n",
       "  (1, 0, 0, 0),\n",
       "  (1, 0, 0, 0),\n",
       "  (1, 0, 0, 1),\n",
       "  (0, 1, 0, 0),\n",
       "  (1, 0, 0, 0),\n",
       "  (0, 0, 0, 1),\n",
       "  (0, 0, 0, 1),\n",
       "  (0, 0, 1, 0),\n",
       "  (1, 0, 1, 1),\n",
       "  (1, 0, 1, 0),\n",
       "  (0, 1, 0, 0),\n",
       "  (0, 0, 1, 0),\n",
       "  (1, 0, 0, 0),\n",
       "  (1, 0, 0, 0),\n",
       "  (1, 0, 0, 1),\n",
       "  (0, 1, 0, 0),\n",
       "  (1, 0, 0, 1),\n",
       "  (1, 0, 0, 1),\n",
       "  (1, 0, 0, 0),\n",
       "  (1, 0, 0, 0),\n",
       "  (1, 0, 0, 0),\n",
       "  (1, 0, 0, 0),\n",
       "  (0, 0, 0, 1),\n",
       "  (0, 1, 0, 0),\n",
       "  (1, 0, 0, 0),\n",
       "  (0, 1, 0, 0),\n",
       "  (0, 0, 1, 0),\n",
       "  (0, 0, 0, 1),\n",
       "  (1, 0, 0, 0),\n",
       "  (1, 0, 0, 0),\n",
       "  (1, 0, 0, 0),\n",
       "  (0, 0, 0, 1),\n",
       "  (1, 0, 0, 0),\n",
       "  (1, 0, 0, 0),\n",
       "  (0, 0, 1, 0),\n",
       "  (1, 1, 0, 0),\n",
       "  (1, 0, 0, 1),\n",
       "  (1, 0, 0, 1),\n",
       "  (1, 0, 0, 1),\n",
       "  (1, 0, 0, 0),\n",
       "  (1, 0, 0, 0),\n",
       "  (0, 0, 0, 1),\n",
       "  (1, 0, 0, 0),\n",
       "  (0, 0, 0, 1),\n",
       "  (1, 0, 0, 0),\n",
       "  (0, 0, 0, 1),\n",
       "  (0, 1, 0, 0),\n",
       "  (1, 0, 0, 0),\n",
       "  (1, 0, 0, 0),\n",
       "  (0, 1, 0, 0),\n",
       "  (0, 1, 0, 0),\n",
       "  (1, 0, 0, 0),\n",
       "  (0, 1, 0, 0),\n",
       "  (1, 0, 0, 1),\n",
       "  (1, 0, 0, 0),\n",
       "  (1, 0, 0, 1),\n",
       "  (0, 0, 0, 1),\n",
       "  (1, 0, 0, 0),\n",
       "  (0, 0, 0, 1),\n",
       "  (1, 0, 1, 0),\n",
       "  (1, 0, 0, 1),\n",
       "  (0, 1, 0, 0),\n",
       "  (0, 0, 1, 0),\n",
       "  (0, 0, 1, 0),\n",
       "  (0, 0, 0, 1),\n",
       "  (1, 0, 0, 0),\n",
       "  (1, 0, 0, 0),\n",
       "  (0, 0, 0, 1),\n",
       "  (1, 0, 0, 0),\n",
       "  (0, 1, 0, 0),\n",
       "  (0, 0, 0, 1),\n",
       "  (0, 0, 1, 0),\n",
       "  (1, 0, 0, 0),\n",
       "  (0, 1, 0, 0),\n",
       "  (1, 0, 0, 0),\n",
       "  (1, 0, 0, 0),\n",
       "  (1, 0, 0, 0),\n",
       "  (0, 1, 0, 0),\n",
       "  (0, 1, 0, 0),\n",
       "  (0, 0, 0, 1),\n",
       "  (1, 0, 0, 0),\n",
       "  (1, 0, 0, 0),\n",
       "  (0, 1, 0, 0),\n",
       "  (1, 0, 0, 0),\n",
       "  (0, 0, 1, 0),\n",
       "  (1, 0, 0, 1),\n",
       "  (1, 0, 0, 1),\n",
       "  (1, 0, 0, 0),\n",
       "  (0, 0, 0, 1),\n",
       "  (0, 0, 1, 0),\n",
       "  (0, 0, 1, 0),\n",
       "  (0, 0, 1, 0),\n",
       "  (0, 1, 0, 0),\n",
       "  (1, 0, 0, 0),\n",
       "  (0, 0, 0, 1),\n",
       "  (0, 0, 1, 0),\n",
       "  (1, 0, 0, 0),\n",
       "  (0, 0, 0, 1),\n",
       "  (1, 0, 0, 0),\n",
       "  (0, 0, 1, 1),\n",
       "  (1, 0, 0, 0),\n",
       "  (1, 0, 0, 1),\n",
       "  (0, 0, 0, 1),\n",
       "  (1, 0, 0, 0),\n",
       "  (0, 0, 0, 1),\n",
       "  (0, 0, 0, 1),\n",
       "  (1, 0, 0, 1),\n",
       "  (1, 0, 0, 0),\n",
       "  (1, 0, 0, 0),\n",
       "  (1, 0, 0, 1),\n",
       "  (1, 0, 0, 0),\n",
       "  (1, 0, 0, 0),\n",
       "  (1, 0, 0, 0),\n",
       "  (0, 0, 0, 1),\n",
       "  (0, 0, 0, 1),\n",
       "  (0, 0, 0, 1),\n",
       "  (0, 0, 1, 0),\n",
       "  (1, 0, 0, 1),\n",
       "  (0, 1, 0, 0),\n",
       "  (0, 0, 0, 1),\n",
       "  (1, 0, 0, 1),\n",
       "  (0, 0, 0, 1),\n",
       "  (0, 0, 0, 1),\n",
       "  (0, 0, 1, 0),\n",
       "  (1, 0, 0, 0),\n",
       "  (1, 0, 0, 0),\n",
       "  (0, 0, 0, 1),\n",
       "  (1, 0, 0, 0),\n",
       "  (1, 0, 0, 1),\n",
       "  (1, 0, 0, 0),\n",
       "  (0, 0, 0, 1),\n",
       "  (0, 0, 1, 0),\n",
       "  (0, 0, 1, 0),\n",
       "  (1, 0, 0, 0),\n",
       "  (1, 0, 0, 0),\n",
       "  (0, 1, 0, 0),\n",
       "  (0, 1, 0, 0),\n",
       "  (0, 1, 0, 0),\n",
       "  (1, 0, 0, 1),\n",
       "  (1, 0, 0, 1),\n",
       "  (0, 0, 0, 1),\n",
       "  (0, 0, 1, 0),\n",
       "  (0, 1, 0, 0),\n",
       "  (0, 0, 1, 0),\n",
       "  (0, 0, 1, 0),\n",
       "  (1, 0, 0, 0),\n",
       "  (1, 0, 0, 0),\n",
       "  (1, 0, 0, 1),\n",
       "  (1, 0, 0, 0),\n",
       "  (0, 0, 1, 0),\n",
       "  (0, 1, 0, 0),\n",
       "  (1, 0, 0, 0),\n",
       "  (1, 0, 0, 1),\n",
       "  (0, 0, 0, 1),\n",
       "  (1, 0, 0, 0),\n",
       "  (0, 0, 0, 1),\n",
       "  (0, 0, 0, 1),\n",
       "  (0, 0, 0, 1),\n",
       "  (1, 0, 0, 0),\n",
       "  (0, 0, 0, 1),\n",
       "  (0, 0, 1, 0),\n",
       "  (0, 0, 1, 0),\n",
       "  (1, 0, 0, 0),\n",
       "  (1, 0, 0, 1),\n",
       "  (1, 0, 0, 1),\n",
       "  (1, 0, 0, 1),\n",
       "  (1, 0, 0, 1),\n",
       "  (1, 0, 0, 0),\n",
       "  (0, 0, 0, 1),\n",
       "  (0, 0, 0, 1),\n",
       "  ...],\n",
       " 5408)"
      ]
     },
     "execution_count": 104,
     "metadata": {},
     "output_type": "execute_result"
    }
   ],
   "source": [
    "zipMultiLabel = list(\n",
    "    zip(\n",
    "        perguntas[labels[0]],\n",
    "        perguntas[labels[1]],\n",
    "        perguntas[labels[2]],\n",
    "        perguntas[labels[3]]\n",
    "    )\n",
    ")\n",
    "\n",
    "zipMultiLabel, len(zipMultiLabel)"
   ]
  },
  {
   "cell_type": "code",
   "execution_count": 105,
   "metadata": {},
   "outputs": [
    {
     "data": {
      "text/html": [
       "<div>\n",
       "<style scoped>\n",
       "    .dataframe tbody tr th:only-of-type {\n",
       "        vertical-align: middle;\n",
       "    }\n",
       "\n",
       "    .dataframe tbody tr th {\n",
       "        vertical-align: top;\n",
       "    }\n",
       "\n",
       "    .dataframe thead th {\n",
       "        text-align: right;\n",
       "    }\n",
       "</style>\n",
       "<table border=\"1\" class=\"dataframe\">\n",
       "  <thead>\n",
       "    <tr style=\"text-align: right;\">\n",
       "      <th></th>\n",
       "      <th>Perguntas</th>\n",
       "      <th>Tags</th>\n",
       "      <th>html</th>\n",
       "      <th>node.js</th>\n",
       "      <th>angular</th>\n",
       "      <th>jquery</th>\n",
       "      <th>multiTags</th>\n",
       "    </tr>\n",
       "  </thead>\n",
       "  <tbody>\n",
       "    <tr>\n",
       "      <th>0</th>\n",
       "      <td>Possuo um projeto Node.js porém preciso criar ...</td>\n",
       "      <td>node.js</td>\n",
       "      <td>0</td>\n",
       "      <td>1</td>\n",
       "      <td>0</td>\n",
       "      <td>0</td>\n",
       "      <td>(0, 1, 0, 0)</td>\n",
       "    </tr>\n",
       "    <tr>\n",
       "      <th>1</th>\n",
       "      <td>Gostaria de fazer testes unitários no Node.js,...</td>\n",
       "      <td>node.js</td>\n",
       "      <td>0</td>\n",
       "      <td>1</td>\n",
       "      <td>0</td>\n",
       "      <td>0</td>\n",
       "      <td>(0, 1, 0, 0)</td>\n",
       "    </tr>\n",
       "    <tr>\n",
       "      <th>2</th>\n",
       "      <td>Como inverter a ordem com que o jQuery itera u...</td>\n",
       "      <td>jquery</td>\n",
       "      <td>0</td>\n",
       "      <td>0</td>\n",
       "      <td>0</td>\n",
       "      <td>1</td>\n",
       "      <td>(0, 0, 0, 1)</td>\n",
       "    </tr>\n",
       "    <tr>\n",
       "      <th>3</th>\n",
       "      <td>Eu tenho uma página onde pretendo utilizar um ...</td>\n",
       "      <td>html</td>\n",
       "      <td>1</td>\n",
       "      <td>0</td>\n",
       "      <td>0</td>\n",
       "      <td>0</td>\n",
       "      <td>(1, 0, 0, 0)</td>\n",
       "    </tr>\n",
       "    <tr>\n",
       "      <th>4</th>\n",
       "      <td>Como exibir os dados retornados do FireStore e...</td>\n",
       "      <td>html angular</td>\n",
       "      <td>1</td>\n",
       "      <td>0</td>\n",
       "      <td>1</td>\n",
       "      <td>0</td>\n",
       "      <td>(1, 0, 1, 0)</td>\n",
       "    </tr>\n",
       "  </tbody>\n",
       "</table>\n",
       "</div>"
      ],
      "text/plain": [
       "                                           Perguntas           Tags  html  \\\n",
       "0  Possuo um projeto Node.js porém preciso criar ...        node.js     0   \n",
       "1  Gostaria de fazer testes unitários no Node.js,...        node.js     0   \n",
       "2  Como inverter a ordem com que o jQuery itera u...         jquery     0   \n",
       "3  Eu tenho uma página onde pretendo utilizar um ...           html     1   \n",
       "4  Como exibir os dados retornados do FireStore e...  html angular      1   \n",
       "\n",
       "   node.js  angular  jquery     multiTags  \n",
       "0        1        0       0  (0, 1, 0, 0)  \n",
       "1        1        0       0  (0, 1, 0, 0)  \n",
       "2        0        0       1  (0, 0, 0, 1)  \n",
       "3        0        0       0  (1, 0, 0, 0)  \n",
       "4        0        1       0  (1, 0, 1, 0)  "
      ]
     },
     "execution_count": 105,
     "metadata": {},
     "output_type": "execute_result"
    }
   ],
   "source": [
    "perguntas['multiTags'] = zipMultiLabel\n",
    "perguntas.head()"
   ]
  },
  {
   "cell_type": "code",
   "execution_count": 107,
   "metadata": {},
   "outputs": [],
   "source": [
    "perguntas_treino, perguntas_teste, tags_treino, tags_teste = train_test_split(\n",
    "    perguntas.Perguntas,\n",
    "    perguntas.multiTags,\n",
    "    test_size = 0.3,\n",
    "    random_state = 123\n",
    ")"
   ]
  },
  {
   "cell_type": "code",
   "execution_count": 110,
   "metadata": {},
   "outputs": [
    {
     "name": "stderr",
     "output_type": "stream",
     "text": [
      "C:\\Users\\fsouz\\AppData\\Local\\Temp\\ipykernel_22732\\3140944378.py:1: FutureWarning: The behavior of `series[i:j]` with an integer-dtype index is deprecated. In a future version, this will be treated as *label-based* indexing, consistent with e.g. `series[i]` lookups. To retain the old behavior, use `series.iloc[i:j]`. To get the future behavior, use `series.loc[i:j]`.\n",
      "  perguntas_treino[:5], tags_treino[:5]\n"
     ]
    },
    {
     "data": {
      "text/plain": [
       "(590     Estou fazendo um projeto que tem diversos inpu...\n",
       " 4271    Gostaria de alterar o texto do botão após a co...\n",
       " 790       Eu estou num desenvolvimento de um site e pr...\n",
       " 2732    Olá, como faço para configura o timepicker par...\n",
       " 4227    Eu preciso acessar a CODE  com CODE  e mudar a...\n",
       " Name: Perguntas, dtype: object,\n",
       " 590     (0, 0, 0, 1)\n",
       " 4271    (1, 0, 0, 1)\n",
       " 790     (1, 0, 0, 0)\n",
       " 2732    (0, 0, 0, 1)\n",
       " 4227    (0, 0, 0, 1)\n",
       " Name: multiTags, dtype: object)"
      ]
     },
     "execution_count": 110,
     "metadata": {},
     "output_type": "execute_result"
    }
   ],
   "source": [
    "perguntas_treino[:5], tags_treino[:5]"
   ]
  },
  {
   "cell_type": "markdown",
   "metadata": {},
   "source": [
    "## Usando vetorização com TF-IDF - Text Frequence, Inverse Document Frequence"
   ]
  },
  {
   "cell_type": "code",
   "execution_count": 112,
   "metadata": {},
   "outputs": [],
   "source": [
    "from sklearn.feature_extraction.text import TfidfVectorizer"
   ]
  },
  {
   "cell_type": "code",
   "execution_count": 144,
   "metadata": {},
   "outputs": [
    {
     "data": {
      "text/html": [
       "<style>#sk-container-id-5 {color: black;background-color: white;}#sk-container-id-5 pre{padding: 0;}#sk-container-id-5 div.sk-toggleable {background-color: white;}#sk-container-id-5 label.sk-toggleable__label {cursor: pointer;display: block;width: 100%;margin-bottom: 0;padding: 0.3em;box-sizing: border-box;text-align: center;}#sk-container-id-5 label.sk-toggleable__label-arrow:before {content: \"▸\";float: left;margin-right: 0.25em;color: #696969;}#sk-container-id-5 label.sk-toggleable__label-arrow:hover:before {color: black;}#sk-container-id-5 div.sk-estimator:hover label.sk-toggleable__label-arrow:before {color: black;}#sk-container-id-5 div.sk-toggleable__content {max-height: 0;max-width: 0;overflow: hidden;text-align: left;background-color: #f0f8ff;}#sk-container-id-5 div.sk-toggleable__content pre {margin: 0.2em;color: black;border-radius: 0.25em;background-color: #f0f8ff;}#sk-container-id-5 input.sk-toggleable__control:checked~div.sk-toggleable__content {max-height: 200px;max-width: 100%;overflow: auto;}#sk-container-id-5 input.sk-toggleable__control:checked~label.sk-toggleable__label-arrow:before {content: \"▾\";}#sk-container-id-5 div.sk-estimator input.sk-toggleable__control:checked~label.sk-toggleable__label {background-color: #d4ebff;}#sk-container-id-5 div.sk-label input.sk-toggleable__control:checked~label.sk-toggleable__label {background-color: #d4ebff;}#sk-container-id-5 input.sk-hidden--visually {border: 0;clip: rect(1px 1px 1px 1px);clip: rect(1px, 1px, 1px, 1px);height: 1px;margin: -1px;overflow: hidden;padding: 0;position: absolute;width: 1px;}#sk-container-id-5 div.sk-estimator {font-family: monospace;background-color: #f0f8ff;border: 1px dotted black;border-radius: 0.25em;box-sizing: border-box;margin-bottom: 0.5em;}#sk-container-id-5 div.sk-estimator:hover {background-color: #d4ebff;}#sk-container-id-5 div.sk-parallel-item::after {content: \"\";width: 100%;border-bottom: 1px solid gray;flex-grow: 1;}#sk-container-id-5 div.sk-label:hover label.sk-toggleable__label {background-color: #d4ebff;}#sk-container-id-5 div.sk-serial::before {content: \"\";position: absolute;border-left: 1px solid gray;box-sizing: border-box;top: 0;bottom: 0;left: 50%;z-index: 0;}#sk-container-id-5 div.sk-serial {display: flex;flex-direction: column;align-items: center;background-color: white;padding-right: 0.2em;padding-left: 0.2em;position: relative;}#sk-container-id-5 div.sk-item {position: relative;z-index: 1;}#sk-container-id-5 div.sk-parallel {display: flex;align-items: stretch;justify-content: center;background-color: white;position: relative;}#sk-container-id-5 div.sk-item::before, #sk-container-id-5 div.sk-parallel-item::before {content: \"\";position: absolute;border-left: 1px solid gray;box-sizing: border-box;top: 0;bottom: 0;left: 50%;z-index: -1;}#sk-container-id-5 div.sk-parallel-item {display: flex;flex-direction: column;z-index: 1;position: relative;background-color: white;}#sk-container-id-5 div.sk-parallel-item:first-child::after {align-self: flex-end;width: 50%;}#sk-container-id-5 div.sk-parallel-item:last-child::after {align-self: flex-start;width: 50%;}#sk-container-id-5 div.sk-parallel-item:only-child::after {width: 0;}#sk-container-id-5 div.sk-dashed-wrapped {border: 1px dashed gray;margin: 0 0.4em 0.5em 0.4em;box-sizing: border-box;padding-bottom: 0.4em;background-color: white;}#sk-container-id-5 div.sk-label label {font-family: monospace;font-weight: bold;display: inline-block;line-height: 1.2em;}#sk-container-id-5 div.sk-label-container {text-align: center;}#sk-container-id-5 div.sk-container {/* jupyter's `normalize.less` sets `[hidden] { display: none; }` but bootstrap.min.css set `[hidden] { display: none !important; }` so we also need the `!important` here to be able to override the default hidden behavior on the sphinx rendered scikit-learn.org. See: https://github.com/scikit-learn/scikit-learn/issues/21755 */display: inline-block !important;position: relative;}#sk-container-id-5 div.sk-text-repr-fallback {display: none;}</style><div id=\"sk-container-id-5\" class=\"sk-top-container\"><div class=\"sk-text-repr-fallback\"><pre>TfidfVectorizer(max_df=0.75, max_features=5000)</pre><b>In a Jupyter environment, please rerun this cell to show the HTML representation or trust the notebook. <br />On GitHub, the HTML representation is unable to render, please try loading this page with nbviewer.org.</b></div><div class=\"sk-container\" hidden><div class=\"sk-item\"><div class=\"sk-estimator sk-toggleable\"><input class=\"sk-toggleable__control sk-hidden--visually\" id=\"sk-estimator-id-9\" type=\"checkbox\" checked><label for=\"sk-estimator-id-9\" class=\"sk-toggleable__label sk-toggleable__label-arrow\">TfidfVectorizer</label><div class=\"sk-toggleable__content\"><pre>TfidfVectorizer(max_df=0.75, max_features=5000)</pre></div></div></div></div></div>"
      ],
      "text/plain": [
       "TfidfVectorizer(max_df=0.75, max_features=5000)"
      ]
     },
     "execution_count": 144,
     "metadata": {},
     "output_type": "execute_result"
    }
   ],
   "source": [
    "#Deve ser instanciado\n",
    "'''\n",
    "    max_features = a qtd de palavras a serem vetorizadas por oração\n",
    "    max_df = a frequência máxima avaliada de presença no corpus\n",
    "'''\n",
    "vetorize = TfidfVectorizer(\n",
    "    max_features = 5000,\n",
    "    max_df = 0.75,\n",
    ")\n",
    "vetorize"
   ]
  },
  {
   "cell_type": "code",
   "execution_count": 199,
   "metadata": {},
   "outputs": [
    {
     "data": {
      "text/plain": [
       "(590     Estou fazendo um projeto que tem diversos inpu...\n",
       " 4271    Gostaria de alterar o texto do botão após a co...\n",
       " 790       Eu estou num desenvolvimento de um site e pr...\n",
       " 2732    Olá, como faço para configura o timepicker par...\n",
       " 4227    Eu preciso acessar a CODE  com CODE  e mudar a...\n",
       "                               ...                        \n",
       " 5218    Tenho um sisteminha, para mudar o layout da pá...\n",
       " 4060    Como fazer alto scoll ao carregar a página?  E...\n",
       " 1346    Explicação:  Tenho uma CODE  pai que contém du...\n",
       " 3454    Estou querendo fazer um sistema onde eu iria t...\n",
       " 3582    Galera eu to com um problemão, ja pesquisei ba...\n",
       " Name: Perguntas, Length: 3785, dtype: object,\n",
       " pandas.core.series.Series)"
      ]
     },
     "execution_count": 199,
     "metadata": {},
     "output_type": "execute_result"
    }
   ],
   "source": [
    "perguntas_treino, type(perguntas_treino)"
   ]
  },
  {
   "cell_type": "code",
   "execution_count": 146,
   "metadata": {},
   "outputs": [
    {
     "name": "stdout",
     "output_type": "stream",
     "text": [
      "(3785, 5000)\n",
      "(1623, 5000)\n"
     ]
    }
   ],
   "source": [
    "vetorize.fit(perguntas.Perguntas)\n",
    "input_treino_tfidf = vetorize.transform(perguntas_treino)\n",
    "input_teste_tfidf = vetorize.transform(perguntas_teste)\n",
    "\n",
    "print(input_treino_tfidf.shape)\n",
    "print(input_teste_tfidf.shape)"
   ]
  },
  {
   "cell_type": "markdown",
   "metadata": {},
   "source": [
    "## Introduzindo modelo de relevância binária para cada coluna target do data set"
   ]
  },
  {
   "cell_type": "code",
   "execution_count": 116,
   "metadata": {},
   "outputs": [],
   "source": [
    "from sklearn.multiclass import OneVsRestClassifier\n",
    "from sklearn.linear_model import LogisticRegression"
   ]
  },
  {
   "cell_type": "markdown",
   "metadata": {},
   "source": [
    "### Usando a função estimadora como regressão logística que ajusta a saída entre 0 e 1"
   ]
  },
  {
   "cell_type": "code",
   "execution_count": 147,
   "metadata": {},
   "outputs": [
    {
     "data": {
      "text/html": [
       "<style>#sk-container-id-6 {color: black;background-color: white;}#sk-container-id-6 pre{padding: 0;}#sk-container-id-6 div.sk-toggleable {background-color: white;}#sk-container-id-6 label.sk-toggleable__label {cursor: pointer;display: block;width: 100%;margin-bottom: 0;padding: 0.3em;box-sizing: border-box;text-align: center;}#sk-container-id-6 label.sk-toggleable__label-arrow:before {content: \"▸\";float: left;margin-right: 0.25em;color: #696969;}#sk-container-id-6 label.sk-toggleable__label-arrow:hover:before {color: black;}#sk-container-id-6 div.sk-estimator:hover label.sk-toggleable__label-arrow:before {color: black;}#sk-container-id-6 div.sk-toggleable__content {max-height: 0;max-width: 0;overflow: hidden;text-align: left;background-color: #f0f8ff;}#sk-container-id-6 div.sk-toggleable__content pre {margin: 0.2em;color: black;border-radius: 0.25em;background-color: #f0f8ff;}#sk-container-id-6 input.sk-toggleable__control:checked~div.sk-toggleable__content {max-height: 200px;max-width: 100%;overflow: auto;}#sk-container-id-6 input.sk-toggleable__control:checked~label.sk-toggleable__label-arrow:before {content: \"▾\";}#sk-container-id-6 div.sk-estimator input.sk-toggleable__control:checked~label.sk-toggleable__label {background-color: #d4ebff;}#sk-container-id-6 div.sk-label input.sk-toggleable__control:checked~label.sk-toggleable__label {background-color: #d4ebff;}#sk-container-id-6 input.sk-hidden--visually {border: 0;clip: rect(1px 1px 1px 1px);clip: rect(1px, 1px, 1px, 1px);height: 1px;margin: -1px;overflow: hidden;padding: 0;position: absolute;width: 1px;}#sk-container-id-6 div.sk-estimator {font-family: monospace;background-color: #f0f8ff;border: 1px dotted black;border-radius: 0.25em;box-sizing: border-box;margin-bottom: 0.5em;}#sk-container-id-6 div.sk-estimator:hover {background-color: #d4ebff;}#sk-container-id-6 div.sk-parallel-item::after {content: \"\";width: 100%;border-bottom: 1px solid gray;flex-grow: 1;}#sk-container-id-6 div.sk-label:hover label.sk-toggleable__label {background-color: #d4ebff;}#sk-container-id-6 div.sk-serial::before {content: \"\";position: absolute;border-left: 1px solid gray;box-sizing: border-box;top: 0;bottom: 0;left: 50%;z-index: 0;}#sk-container-id-6 div.sk-serial {display: flex;flex-direction: column;align-items: center;background-color: white;padding-right: 0.2em;padding-left: 0.2em;position: relative;}#sk-container-id-6 div.sk-item {position: relative;z-index: 1;}#sk-container-id-6 div.sk-parallel {display: flex;align-items: stretch;justify-content: center;background-color: white;position: relative;}#sk-container-id-6 div.sk-item::before, #sk-container-id-6 div.sk-parallel-item::before {content: \"\";position: absolute;border-left: 1px solid gray;box-sizing: border-box;top: 0;bottom: 0;left: 50%;z-index: -1;}#sk-container-id-6 div.sk-parallel-item {display: flex;flex-direction: column;z-index: 1;position: relative;background-color: white;}#sk-container-id-6 div.sk-parallel-item:first-child::after {align-self: flex-end;width: 50%;}#sk-container-id-6 div.sk-parallel-item:last-child::after {align-self: flex-start;width: 50%;}#sk-container-id-6 div.sk-parallel-item:only-child::after {width: 0;}#sk-container-id-6 div.sk-dashed-wrapped {border: 1px dashed gray;margin: 0 0.4em 0.5em 0.4em;box-sizing: border-box;padding-bottom: 0.4em;background-color: white;}#sk-container-id-6 div.sk-label label {font-family: monospace;font-weight: bold;display: inline-block;line-height: 1.2em;}#sk-container-id-6 div.sk-label-container {text-align: center;}#sk-container-id-6 div.sk-container {/* jupyter's `normalize.less` sets `[hidden] { display: none; }` but bootstrap.min.css set `[hidden] { display: none !important; }` so we also need the `!important` here to be able to override the default hidden behavior on the sphinx rendered scikit-learn.org. See: https://github.com/scikit-learn/scikit-learn/issues/21755 */display: inline-block !important;position: relative;}#sk-container-id-6 div.sk-text-repr-fallback {display: none;}</style><div id=\"sk-container-id-6\" class=\"sk-top-container\"><div class=\"sk-text-repr-fallback\"><pre>LogisticRegression()</pre><b>In a Jupyter environment, please rerun this cell to show the HTML representation or trust the notebook. <br />On GitHub, the HTML representation is unable to render, please try loading this page with nbviewer.org.</b></div><div class=\"sk-container\" hidden><div class=\"sk-item\"><div class=\"sk-estimator sk-toggleable\"><input class=\"sk-toggleable__control sk-hidden--visually\" id=\"sk-estimator-id-10\" type=\"checkbox\" checked><label for=\"sk-estimator-id-10\" class=\"sk-toggleable__label sk-toggleable__label-arrow\">LogisticRegression</label><div class=\"sk-toggleable__content\"><pre>LogisticRegression()</pre></div></div></div></div></div>"
      ],
      "text/plain": [
       "LogisticRegression()"
      ]
     },
     "execution_count": 147,
     "metadata": {},
     "output_type": "execute_result"
    }
   ],
   "source": [
    "logRegression = LogisticRegression()\n",
    "logRegression"
   ]
  },
  {
   "cell_type": "code",
   "execution_count": 148,
   "metadata": {},
   "outputs": [
    {
     "data": {
      "text/html": [
       "<style>#sk-container-id-7 {color: black;background-color: white;}#sk-container-id-7 pre{padding: 0;}#sk-container-id-7 div.sk-toggleable {background-color: white;}#sk-container-id-7 label.sk-toggleable__label {cursor: pointer;display: block;width: 100%;margin-bottom: 0;padding: 0.3em;box-sizing: border-box;text-align: center;}#sk-container-id-7 label.sk-toggleable__label-arrow:before {content: \"▸\";float: left;margin-right: 0.25em;color: #696969;}#sk-container-id-7 label.sk-toggleable__label-arrow:hover:before {color: black;}#sk-container-id-7 div.sk-estimator:hover label.sk-toggleable__label-arrow:before {color: black;}#sk-container-id-7 div.sk-toggleable__content {max-height: 0;max-width: 0;overflow: hidden;text-align: left;background-color: #f0f8ff;}#sk-container-id-7 div.sk-toggleable__content pre {margin: 0.2em;color: black;border-radius: 0.25em;background-color: #f0f8ff;}#sk-container-id-7 input.sk-toggleable__control:checked~div.sk-toggleable__content {max-height: 200px;max-width: 100%;overflow: auto;}#sk-container-id-7 input.sk-toggleable__control:checked~label.sk-toggleable__label-arrow:before {content: \"▾\";}#sk-container-id-7 div.sk-estimator input.sk-toggleable__control:checked~label.sk-toggleable__label {background-color: #d4ebff;}#sk-container-id-7 div.sk-label input.sk-toggleable__control:checked~label.sk-toggleable__label {background-color: #d4ebff;}#sk-container-id-7 input.sk-hidden--visually {border: 0;clip: rect(1px 1px 1px 1px);clip: rect(1px, 1px, 1px, 1px);height: 1px;margin: -1px;overflow: hidden;padding: 0;position: absolute;width: 1px;}#sk-container-id-7 div.sk-estimator {font-family: monospace;background-color: #f0f8ff;border: 1px dotted black;border-radius: 0.25em;box-sizing: border-box;margin-bottom: 0.5em;}#sk-container-id-7 div.sk-estimator:hover {background-color: #d4ebff;}#sk-container-id-7 div.sk-parallel-item::after {content: \"\";width: 100%;border-bottom: 1px solid gray;flex-grow: 1;}#sk-container-id-7 div.sk-label:hover label.sk-toggleable__label {background-color: #d4ebff;}#sk-container-id-7 div.sk-serial::before {content: \"\";position: absolute;border-left: 1px solid gray;box-sizing: border-box;top: 0;bottom: 0;left: 50%;z-index: 0;}#sk-container-id-7 div.sk-serial {display: flex;flex-direction: column;align-items: center;background-color: white;padding-right: 0.2em;padding-left: 0.2em;position: relative;}#sk-container-id-7 div.sk-item {position: relative;z-index: 1;}#sk-container-id-7 div.sk-parallel {display: flex;align-items: stretch;justify-content: center;background-color: white;position: relative;}#sk-container-id-7 div.sk-item::before, #sk-container-id-7 div.sk-parallel-item::before {content: \"\";position: absolute;border-left: 1px solid gray;box-sizing: border-box;top: 0;bottom: 0;left: 50%;z-index: -1;}#sk-container-id-7 div.sk-parallel-item {display: flex;flex-direction: column;z-index: 1;position: relative;background-color: white;}#sk-container-id-7 div.sk-parallel-item:first-child::after {align-self: flex-end;width: 50%;}#sk-container-id-7 div.sk-parallel-item:last-child::after {align-self: flex-start;width: 50%;}#sk-container-id-7 div.sk-parallel-item:only-child::after {width: 0;}#sk-container-id-7 div.sk-dashed-wrapped {border: 1px dashed gray;margin: 0 0.4em 0.5em 0.4em;box-sizing: border-box;padding-bottom: 0.4em;background-color: white;}#sk-container-id-7 div.sk-label label {font-family: monospace;font-weight: bold;display: inline-block;line-height: 1.2em;}#sk-container-id-7 div.sk-label-container {text-align: center;}#sk-container-id-7 div.sk-container {/* jupyter's `normalize.less` sets `[hidden] { display: none; }` but bootstrap.min.css set `[hidden] { display: none !important; }` so we also need the `!important` here to be able to override the default hidden behavior on the sphinx rendered scikit-learn.org. See: https://github.com/scikit-learn/scikit-learn/issues/21755 */display: inline-block !important;position: relative;}#sk-container-id-7 div.sk-text-repr-fallback {display: none;}</style><div id=\"sk-container-id-7\" class=\"sk-top-container\"><div class=\"sk-text-repr-fallback\"><pre>OneVsRestClassifier(estimator=LogisticRegression())</pre><b>In a Jupyter environment, please rerun this cell to show the HTML representation or trust the notebook. <br />On GitHub, the HTML representation is unable to render, please try loading this page with nbviewer.org.</b></div><div class=\"sk-container\" hidden><div class=\"sk-item sk-dashed-wrapped\"><div class=\"sk-label-container\"><div class=\"sk-label sk-toggleable\"><input class=\"sk-toggleable__control sk-hidden--visually\" id=\"sk-estimator-id-11\" type=\"checkbox\" ><label for=\"sk-estimator-id-11\" class=\"sk-toggleable__label sk-toggleable__label-arrow\">OneVsRestClassifier</label><div class=\"sk-toggleable__content\"><pre>OneVsRestClassifier(estimator=LogisticRegression())</pre></div></div></div><div class=\"sk-parallel\"><div class=\"sk-parallel-item\"><div class=\"sk-item\"><div class=\"sk-label-container\"><div class=\"sk-label sk-toggleable\"><input class=\"sk-toggleable__control sk-hidden--visually\" id=\"sk-estimator-id-12\" type=\"checkbox\" ><label for=\"sk-estimator-id-12\" class=\"sk-toggleable__label sk-toggleable__label-arrow\">estimator: LogisticRegression</label><div class=\"sk-toggleable__content\"><pre>LogisticRegression()</pre></div></div></div><div class=\"sk-serial\"><div class=\"sk-item\"><div class=\"sk-estimator sk-toggleable\"><input class=\"sk-toggleable__control sk-hidden--visually\" id=\"sk-estimator-id-13\" type=\"checkbox\" ><label for=\"sk-estimator-id-13\" class=\"sk-toggleable__label sk-toggleable__label-arrow\">LogisticRegression</label><div class=\"sk-toggleable__content\"><pre>LogisticRegression()</pre></div></div></div></div></div></div></div></div></div></div>"
      ],
      "text/plain": [
       "OneVsRestClassifier(estimator=LogisticRegression())"
      ]
     },
     "execution_count": 148,
     "metadata": {},
     "output_type": "execute_result"
    }
   ],
   "source": [
    "classMultiBiRelevance = OneVsRestClassifier(logRegression)\n",
    "classMultiBiRelevance"
   ]
  },
  {
   "cell_type": "code",
   "execution_count": 122,
   "metadata": {},
   "outputs": [],
   "source": [
    "#classMultiBiRelevance.fit(input_treino_tfidf,tags_treino)\n",
    "#Não funciona com as n-uplas do multi direto do pandas\n",
    "#temos que modificar as tags de treino e teste"
   ]
  },
  {
   "cell_type": "markdown",
   "metadata": {},
   "source": [
    "## Modificando os tags de treino e teste para 'casar' com o formato da função do classMultiBiRelevance"
   ]
  },
  {
   "cell_type": "code",
   "execution_count": 123,
   "metadata": {},
   "outputs": [],
   "source": [
    "import numpy as np"
   ]
  },
  {
   "cell_type": "code",
   "execution_count": 149,
   "metadata": {},
   "outputs": [
    {
     "data": {
      "text/plain": [
       "(array([(0, 0, 0, 1), (1, 0, 0, 0), (0, 1, 0, 0), (1, 0, 0, 1),\n",
       "        (1, 0, 0, 1), (0, 0, 0, 1), (1, 0, 1, 1), (0, 1, 0, 0),\n",
       "        (1, 0, 0, 0), (1, 0, 0, 0)], dtype=object),\n",
       " array([(0, 0, 0, 1), (1, 0, 0, 1), (1, 0, 0, 0), (0, 0, 0, 1),\n",
       "        (0, 0, 0, 1), (1, 0, 0, 1), (1, 0, 0, 0), (1, 0, 0, 0),\n",
       "        (0, 0, 1, 0), (0, 0, 0, 1)], dtype=object))"
      ]
     },
     "execution_count": 149,
     "metadata": {},
     "output_type": "execute_result"
    }
   ],
   "source": [
    "#Modificando para array do numpy\n",
    "tags_treino_mod = np.array(tags_treino)\n",
    "tags_teste_mod = np.array(tags_teste)\n",
    "\n",
    "tags_teste_mod[:10],tags_treino_mod[:10]"
   ]
  },
  {
   "cell_type": "markdown",
   "metadata": {},
   "source": [
    "#### A saída ainda é de Tuplas ou n-uplas, e a ferramenta não aceita! Precisamos transformar em vetores, ou listas para uso no modelo"
   ]
  },
  {
   "cell_type": "code",
   "execution_count": 150,
   "metadata": {},
   "outputs": [
    {
     "data": {
      "text/plain": [
       "(array([[0, 0, 0, 1],\n",
       "        [1, 0, 0, 0],\n",
       "        [0, 1, 0, 0],\n",
       "        [1, 0, 0, 1],\n",
       "        [1, 0, 0, 1],\n",
       "        [0, 0, 0, 1],\n",
       "        [1, 0, 1, 1],\n",
       "        [0, 1, 0, 0],\n",
       "        [1, 0, 0, 0],\n",
       "        [1, 0, 0, 0]]),\n",
       " array([[0, 0, 0, 1],\n",
       "        [1, 0, 0, 1],\n",
       "        [1, 0, 0, 0],\n",
       "        [0, 0, 0, 1],\n",
       "        [0, 0, 0, 1],\n",
       "        [1, 0, 0, 1],\n",
       "        [1, 0, 0, 0],\n",
       "        [1, 0, 0, 0],\n",
       "        [0, 0, 1, 0],\n",
       "        [0, 0, 0, 1]]))"
      ]
     },
     "execution_count": 150,
     "metadata": {},
     "output_type": "execute_result"
    }
   ],
   "source": [
    "tags_treino_mod = np.array(list(tags_treino))\n",
    "tags_teste_mod = np.array(list(tags_teste))\n",
    "\n",
    "tags_teste_mod[:10],tags_treino_mod[:10]"
   ]
  },
  {
   "cell_type": "code",
   "execution_count": 151,
   "metadata": {},
   "outputs": [
    {
     "data": {
      "text/html": [
       "<style>#sk-container-id-8 {color: black;background-color: white;}#sk-container-id-8 pre{padding: 0;}#sk-container-id-8 div.sk-toggleable {background-color: white;}#sk-container-id-8 label.sk-toggleable__label {cursor: pointer;display: block;width: 100%;margin-bottom: 0;padding: 0.3em;box-sizing: border-box;text-align: center;}#sk-container-id-8 label.sk-toggleable__label-arrow:before {content: \"▸\";float: left;margin-right: 0.25em;color: #696969;}#sk-container-id-8 label.sk-toggleable__label-arrow:hover:before {color: black;}#sk-container-id-8 div.sk-estimator:hover label.sk-toggleable__label-arrow:before {color: black;}#sk-container-id-8 div.sk-toggleable__content {max-height: 0;max-width: 0;overflow: hidden;text-align: left;background-color: #f0f8ff;}#sk-container-id-8 div.sk-toggleable__content pre {margin: 0.2em;color: black;border-radius: 0.25em;background-color: #f0f8ff;}#sk-container-id-8 input.sk-toggleable__control:checked~div.sk-toggleable__content {max-height: 200px;max-width: 100%;overflow: auto;}#sk-container-id-8 input.sk-toggleable__control:checked~label.sk-toggleable__label-arrow:before {content: \"▾\";}#sk-container-id-8 div.sk-estimator input.sk-toggleable__control:checked~label.sk-toggleable__label {background-color: #d4ebff;}#sk-container-id-8 div.sk-label input.sk-toggleable__control:checked~label.sk-toggleable__label {background-color: #d4ebff;}#sk-container-id-8 input.sk-hidden--visually {border: 0;clip: rect(1px 1px 1px 1px);clip: rect(1px, 1px, 1px, 1px);height: 1px;margin: -1px;overflow: hidden;padding: 0;position: absolute;width: 1px;}#sk-container-id-8 div.sk-estimator {font-family: monospace;background-color: #f0f8ff;border: 1px dotted black;border-radius: 0.25em;box-sizing: border-box;margin-bottom: 0.5em;}#sk-container-id-8 div.sk-estimator:hover {background-color: #d4ebff;}#sk-container-id-8 div.sk-parallel-item::after {content: \"\";width: 100%;border-bottom: 1px solid gray;flex-grow: 1;}#sk-container-id-8 div.sk-label:hover label.sk-toggleable__label {background-color: #d4ebff;}#sk-container-id-8 div.sk-serial::before {content: \"\";position: absolute;border-left: 1px solid gray;box-sizing: border-box;top: 0;bottom: 0;left: 50%;z-index: 0;}#sk-container-id-8 div.sk-serial {display: flex;flex-direction: column;align-items: center;background-color: white;padding-right: 0.2em;padding-left: 0.2em;position: relative;}#sk-container-id-8 div.sk-item {position: relative;z-index: 1;}#sk-container-id-8 div.sk-parallel {display: flex;align-items: stretch;justify-content: center;background-color: white;position: relative;}#sk-container-id-8 div.sk-item::before, #sk-container-id-8 div.sk-parallel-item::before {content: \"\";position: absolute;border-left: 1px solid gray;box-sizing: border-box;top: 0;bottom: 0;left: 50%;z-index: -1;}#sk-container-id-8 div.sk-parallel-item {display: flex;flex-direction: column;z-index: 1;position: relative;background-color: white;}#sk-container-id-8 div.sk-parallel-item:first-child::after {align-self: flex-end;width: 50%;}#sk-container-id-8 div.sk-parallel-item:last-child::after {align-self: flex-start;width: 50%;}#sk-container-id-8 div.sk-parallel-item:only-child::after {width: 0;}#sk-container-id-8 div.sk-dashed-wrapped {border: 1px dashed gray;margin: 0 0.4em 0.5em 0.4em;box-sizing: border-box;padding-bottom: 0.4em;background-color: white;}#sk-container-id-8 div.sk-label label {font-family: monospace;font-weight: bold;display: inline-block;line-height: 1.2em;}#sk-container-id-8 div.sk-label-container {text-align: center;}#sk-container-id-8 div.sk-container {/* jupyter's `normalize.less` sets `[hidden] { display: none; }` but bootstrap.min.css set `[hidden] { display: none !important; }` so we also need the `!important` here to be able to override the default hidden behavior on the sphinx rendered scikit-learn.org. See: https://github.com/scikit-learn/scikit-learn/issues/21755 */display: inline-block !important;position: relative;}#sk-container-id-8 div.sk-text-repr-fallback {display: none;}</style><div id=\"sk-container-id-8\" class=\"sk-top-container\"><div class=\"sk-text-repr-fallback\"><pre>OneVsRestClassifier(estimator=LogisticRegression())</pre><b>In a Jupyter environment, please rerun this cell to show the HTML representation or trust the notebook. <br />On GitHub, the HTML representation is unable to render, please try loading this page with nbviewer.org.</b></div><div class=\"sk-container\" hidden><div class=\"sk-item sk-dashed-wrapped\"><div class=\"sk-label-container\"><div class=\"sk-label sk-toggleable\"><input class=\"sk-toggleable__control sk-hidden--visually\" id=\"sk-estimator-id-14\" type=\"checkbox\" ><label for=\"sk-estimator-id-14\" class=\"sk-toggleable__label sk-toggleable__label-arrow\">OneVsRestClassifier</label><div class=\"sk-toggleable__content\"><pre>OneVsRestClassifier(estimator=LogisticRegression())</pre></div></div></div><div class=\"sk-parallel\"><div class=\"sk-parallel-item\"><div class=\"sk-item\"><div class=\"sk-label-container\"><div class=\"sk-label sk-toggleable\"><input class=\"sk-toggleable__control sk-hidden--visually\" id=\"sk-estimator-id-15\" type=\"checkbox\" ><label for=\"sk-estimator-id-15\" class=\"sk-toggleable__label sk-toggleable__label-arrow\">estimator: LogisticRegression</label><div class=\"sk-toggleable__content\"><pre>LogisticRegression()</pre></div></div></div><div class=\"sk-serial\"><div class=\"sk-item\"><div class=\"sk-estimator sk-toggleable\"><input class=\"sk-toggleable__control sk-hidden--visually\" id=\"sk-estimator-id-16\" type=\"checkbox\" ><label for=\"sk-estimator-id-16\" class=\"sk-toggleable__label sk-toggleable__label-arrow\">LogisticRegression</label><div class=\"sk-toggleable__content\"><pre>LogisticRegression()</pre></div></div></div></div></div></div></div></div></div></div>"
      ],
      "text/plain": [
       "OneVsRestClassifier(estimator=LogisticRegression())"
      ]
     },
     "execution_count": 151,
     "metadata": {},
     "output_type": "execute_result"
    }
   ],
   "source": [
    "classMultiBiRelevance.fit(input_treino_tfidf,tags_treino_mod)"
   ]
  },
  {
   "cell_type": "markdown",
   "metadata": {},
   "source": [
    "### Usando score para avaliar o resultado"
   ]
  },
  {
   "cell_type": "code",
   "execution_count": 152,
   "metadata": {},
   "outputs": [],
   "source": [
    "resultsMLCassifier = classMultiBiRelevance.score(input_teste_tfidf,tags_teste_mod)"
   ]
  },
  {
   "cell_type": "code",
   "execution_count": 153,
   "metadata": {},
   "outputs": [
    {
     "data": {
      "text/plain": [
       "0.39802834257547753"
      ]
     },
     "execution_count": 153,
     "metadata": {},
     "output_type": "execute_result"
    }
   ],
   "source": [
    "resultsMLCassifier"
   ]
  },
  {
   "cell_type": "code",
   "execution_count": 132,
   "metadata": {},
   "outputs": [
    {
     "data": {
      "text/plain": [
       "'Gostaria de fazer testes unitários no Node.js, estou utilizando o CODE , porém ele não reconhece a variável CODE , CODE  e nem CODE .  Há uma maneira de resolver isso ou alguém sugere um framework de testes mais adequado ao node? Estou utilizando em conjunto com o grunt.  As minhas configurações:  CODE  '"
      ]
     },
     "execution_count": 132,
     "metadata": {},
     "output_type": "execute_result"
    }
   ],
   "source": [
    "perguntas.Perguntas[1]"
   ]
  },
  {
   "cell_type": "code",
   "execution_count": 139,
   "metadata": {},
   "outputs": [],
   "source": [
    "inputTest = 'Gostaria de fazer testes unitários no Node.js, estou utilizando o CODE , porém ele não reconhece a variável CODE , CODE  e nem CODE .  Há uma maneira de resolver isso ou alguém sugere um framework de testes mais adequado ao node?'"
   ]
  },
  {
   "cell_type": "code",
   "execution_count": 163,
   "metadata": {},
   "outputs": [],
   "source": [
    "#classMultiBiRelevance.predict(XXXXX)\n"
   ]
  },
  {
   "cell_type": "markdown",
   "metadata": {},
   "source": [
    "## Está boa esta acurácia!?"
   ]
  },
  {
   "cell_type": "markdown",
   "metadata": {},
   "source": [
    "Está rasoável pois trabalhamos no score com a acurácia, que é um exact match de todo um contexto"
   ]
  },
  {
   "cell_type": "markdown",
   "metadata": {},
   "source": [
    "### Vamos usar a distância de Hamming, que mostra o afastamento da resposta esperada, e não um exact match do resultado"
   ]
  },
  {
   "cell_type": "markdown",
   "metadata": {},
   "source": [
    "<img src='./Hamming.jpg'>"
   ]
  },
  {
   "cell_type": "markdown",
   "metadata": {},
   "source": [
    "* Acurácia = Exact_Match = 1/3\n",
    "* Hamming_Loss = 3/12"
   ]
  },
  {
   "cell_type": "code",
   "execution_count": 164,
   "metadata": {},
   "outputs": [],
   "source": [
    "from sklearn.metrics import hamming_loss"
   ]
  },
  {
   "cell_type": "code",
   "execution_count": 175,
   "metadata": {},
   "outputs": [
    {
     "data": {
      "text/plain": [
       "<1x5000 sparse matrix of type '<class 'numpy.float64'>'\n",
       "\twith 71 stored elements in Compressed Sparse Row format>"
      ]
     },
     "execution_count": 175,
     "metadata": {},
     "output_type": "execute_result"
    }
   ],
   "source": [
    "input_teste_tfidf[1]"
   ]
  },
  {
   "cell_type": "code",
   "execution_count": 169,
   "metadata": {},
   "outputs": [
    {
     "data": {
      "text/plain": [
       "array([[0, 0, 0, 1],\n",
       "       [1, 0, 0, 0],\n",
       "       [0, 1, 0, 0],\n",
       "       ...,\n",
       "       [1, 0, 0, 1],\n",
       "       [0, 0, 1, 0],\n",
       "       [1, 0, 0, 1]])"
      ]
     },
     "execution_count": 169,
     "metadata": {},
     "output_type": "execute_result"
    }
   ],
   "source": [
    "predictTest = classMultiBiRelevance.predict(input_teste_tfidf)\n",
    "predictTest"
   ]
  },
  {
   "cell_type": "code",
   "execution_count": 171,
   "metadata": {},
   "outputs": [
    {
     "data": {
      "text/plain": [
       "0.1914664202094886"
      ]
     },
     "execution_count": 171,
     "metadata": {},
     "output_type": "execute_result"
    }
   ],
   "source": [
    "hamming_calc = hamming_loss(tags_teste_mod, predictTest)\n",
    "hamming_calc"
   ]
  },
  {
   "cell_type": "markdown",
   "metadata": {},
   "source": [
    "## As correlações entre as 'features' "
   ]
  },
  {
   "cell_type": "code",
   "execution_count": 176,
   "metadata": {},
   "outputs": [
    {
     "name": "stderr",
     "output_type": "stream",
     "text": [
      "C:\\Users\\fsouz\\AppData\\Local\\Temp\\ipykernel_22732\\1103923126.py:1: FutureWarning: The default value of numeric_only in DataFrame.corr is deprecated. In a future version, it will default to False. Select only valid columns or specify the value of numeric_only to silence this warning.\n",
      "  perguntas.corr()\n"
     ]
    },
    {
     "data": {
      "text/html": [
       "<div>\n",
       "<style scoped>\n",
       "    .dataframe tbody tr th:only-of-type {\n",
       "        vertical-align: middle;\n",
       "    }\n",
       "\n",
       "    .dataframe tbody tr th {\n",
       "        vertical-align: top;\n",
       "    }\n",
       "\n",
       "    .dataframe thead th {\n",
       "        text-align: right;\n",
       "    }\n",
       "</style>\n",
       "<table border=\"1\" class=\"dataframe\">\n",
       "  <thead>\n",
       "    <tr style=\"text-align: right;\">\n",
       "      <th></th>\n",
       "      <th>html</th>\n",
       "      <th>node.js</th>\n",
       "      <th>angular</th>\n",
       "      <th>jquery</th>\n",
       "    </tr>\n",
       "  </thead>\n",
       "  <tbody>\n",
       "    <tr>\n",
       "      <th>html</th>\n",
       "      <td>1.000000</td>\n",
       "      <td>-0.273523</td>\n",
       "      <td>-0.286706</td>\n",
       "      <td>-0.253977</td>\n",
       "    </tr>\n",
       "    <tr>\n",
       "      <th>node.js</th>\n",
       "      <td>-0.273523</td>\n",
       "      <td>1.000000</td>\n",
       "      <td>-0.101787</td>\n",
       "      <td>-0.321485</td>\n",
       "    </tr>\n",
       "    <tr>\n",
       "      <th>angular</th>\n",
       "      <td>-0.286706</td>\n",
       "      <td>-0.101787</td>\n",
       "      <td>1.000000</td>\n",
       "      <td>-0.366269</td>\n",
       "    </tr>\n",
       "    <tr>\n",
       "      <th>jquery</th>\n",
       "      <td>-0.253977</td>\n",
       "      <td>-0.321485</td>\n",
       "      <td>-0.366269</td>\n",
       "      <td>1.000000</td>\n",
       "    </tr>\n",
       "  </tbody>\n",
       "</table>\n",
       "</div>"
      ],
      "text/plain": [
       "             html   node.js   angular    jquery\n",
       "html     1.000000 -0.273523 -0.286706 -0.253977\n",
       "node.js -0.273523  1.000000 -0.101787 -0.321485\n",
       "angular -0.286706 -0.101787  1.000000 -0.366269\n",
       "jquery  -0.253977 -0.321485 -0.366269  1.000000"
      ]
     },
     "execution_count": 176,
     "metadata": {},
     "output_type": "execute_result"
    }
   ],
   "source": [
    "perguntas.corr()"
   ]
  },
  {
   "cell_type": "markdown",
   "metadata": {},
   "source": [
    "Não é alta mas existe!!"
   ]
  },
  {
   "cell_type": "markdown",
   "metadata": {},
   "source": [
    "Lembrando que correlações perfeitas são iguais a 1, inversamente proporcionais são iguais a -1 e 0 é sem correlação!"
   ]
  },
  {
   "cell_type": "markdown",
   "metadata": {},
   "source": [
    "## Classificação em Cadeia\n",
    "\n",
    "Aqui temos uma avaliação das correlações entre as 'features' do sistema"
   ]
  },
  {
   "cell_type": "code",
   "execution_count": 179,
   "metadata": {},
   "outputs": [
    {
     "name": "stdout",
     "output_type": "stream",
     "text": [
      "Requirement already satisfied: scikit.multilearn in c:\\python310\\lib\\site-packages (0.2.0)\n"
     ]
    },
    {
     "name": "stderr",
     "output_type": "stream",
     "text": [
      "\n",
      "[notice] A new release of pip available: 22.2.2 -> 22.3\n",
      "[notice] To update, run: python.exe -m pip install --upgrade pip\n"
     ]
    }
   ],
   "source": [
    "!pip install scikit.multilearn"
   ]
  },
  {
   "cell_type": "code",
   "execution_count": 181,
   "metadata": {},
   "outputs": [],
   "source": [
    "import skmultilearn"
   ]
  },
  {
   "cell_type": "code",
   "execution_count": 182,
   "metadata": {},
   "outputs": [],
   "source": [
    "from skmultilearn.problem_transform import ClassifierChain"
   ]
  },
  {
   "cell_type": "code",
   "execution_count": 185,
   "metadata": {},
   "outputs": [
    {
     "data": {
      "text/html": [
       "<style>#sk-container-id-9 {color: black;background-color: white;}#sk-container-id-9 pre{padding: 0;}#sk-container-id-9 div.sk-toggleable {background-color: white;}#sk-container-id-9 label.sk-toggleable__label {cursor: pointer;display: block;width: 100%;margin-bottom: 0;padding: 0.3em;box-sizing: border-box;text-align: center;}#sk-container-id-9 label.sk-toggleable__label-arrow:before {content: \"▸\";float: left;margin-right: 0.25em;color: #696969;}#sk-container-id-9 label.sk-toggleable__label-arrow:hover:before {color: black;}#sk-container-id-9 div.sk-estimator:hover label.sk-toggleable__label-arrow:before {color: black;}#sk-container-id-9 div.sk-toggleable__content {max-height: 0;max-width: 0;overflow: hidden;text-align: left;background-color: #f0f8ff;}#sk-container-id-9 div.sk-toggleable__content pre {margin: 0.2em;color: black;border-radius: 0.25em;background-color: #f0f8ff;}#sk-container-id-9 input.sk-toggleable__control:checked~div.sk-toggleable__content {max-height: 200px;max-width: 100%;overflow: auto;}#sk-container-id-9 input.sk-toggleable__control:checked~label.sk-toggleable__label-arrow:before {content: \"▾\";}#sk-container-id-9 div.sk-estimator input.sk-toggleable__control:checked~label.sk-toggleable__label {background-color: #d4ebff;}#sk-container-id-9 div.sk-label input.sk-toggleable__control:checked~label.sk-toggleable__label {background-color: #d4ebff;}#sk-container-id-9 input.sk-hidden--visually {border: 0;clip: rect(1px 1px 1px 1px);clip: rect(1px, 1px, 1px, 1px);height: 1px;margin: -1px;overflow: hidden;padding: 0;position: absolute;width: 1px;}#sk-container-id-9 div.sk-estimator {font-family: monospace;background-color: #f0f8ff;border: 1px dotted black;border-radius: 0.25em;box-sizing: border-box;margin-bottom: 0.5em;}#sk-container-id-9 div.sk-estimator:hover {background-color: #d4ebff;}#sk-container-id-9 div.sk-parallel-item::after {content: \"\";width: 100%;border-bottom: 1px solid gray;flex-grow: 1;}#sk-container-id-9 div.sk-label:hover label.sk-toggleable__label {background-color: #d4ebff;}#sk-container-id-9 div.sk-serial::before {content: \"\";position: absolute;border-left: 1px solid gray;box-sizing: border-box;top: 0;bottom: 0;left: 50%;z-index: 0;}#sk-container-id-9 div.sk-serial {display: flex;flex-direction: column;align-items: center;background-color: white;padding-right: 0.2em;padding-left: 0.2em;position: relative;}#sk-container-id-9 div.sk-item {position: relative;z-index: 1;}#sk-container-id-9 div.sk-parallel {display: flex;align-items: stretch;justify-content: center;background-color: white;position: relative;}#sk-container-id-9 div.sk-item::before, #sk-container-id-9 div.sk-parallel-item::before {content: \"\";position: absolute;border-left: 1px solid gray;box-sizing: border-box;top: 0;bottom: 0;left: 50%;z-index: -1;}#sk-container-id-9 div.sk-parallel-item {display: flex;flex-direction: column;z-index: 1;position: relative;background-color: white;}#sk-container-id-9 div.sk-parallel-item:first-child::after {align-self: flex-end;width: 50%;}#sk-container-id-9 div.sk-parallel-item:last-child::after {align-self: flex-start;width: 50%;}#sk-container-id-9 div.sk-parallel-item:only-child::after {width: 0;}#sk-container-id-9 div.sk-dashed-wrapped {border: 1px dashed gray;margin: 0 0.4em 0.5em 0.4em;box-sizing: border-box;padding-bottom: 0.4em;background-color: white;}#sk-container-id-9 div.sk-label label {font-family: monospace;font-weight: bold;display: inline-block;line-height: 1.2em;}#sk-container-id-9 div.sk-label-container {text-align: center;}#sk-container-id-9 div.sk-container {/* jupyter's `normalize.less` sets `[hidden] { display: none; }` but bootstrap.min.css set `[hidden] { display: none !important; }` so we also need the `!important` here to be able to override the default hidden behavior on the sphinx rendered scikit-learn.org. See: https://github.com/scikit-learn/scikit-learn/issues/21755 */display: inline-block !important;position: relative;}#sk-container-id-9 div.sk-text-repr-fallback {display: none;}</style><div id=\"sk-container-id-9\" class=\"sk-top-container\"><div class=\"sk-text-repr-fallback\"><pre>ClassifierChain(classifier=LogisticRegression(), require_dense=[True, True])</pre><b>In a Jupyter environment, please rerun this cell to show the HTML representation or trust the notebook. <br />On GitHub, the HTML representation is unable to render, please try loading this page with nbviewer.org.</b></div><div class=\"sk-container\" hidden><div class=\"sk-item sk-dashed-wrapped\"><div class=\"sk-label-container\"><div class=\"sk-label sk-toggleable\"><input class=\"sk-toggleable__control sk-hidden--visually\" id=\"sk-estimator-id-17\" type=\"checkbox\" ><label for=\"sk-estimator-id-17\" class=\"sk-toggleable__label sk-toggleable__label-arrow\">ClassifierChain</label><div class=\"sk-toggleable__content\"><pre>ClassifierChain(classifier=LogisticRegression(), require_dense=[True, True])</pre></div></div></div><div class=\"sk-parallel\"><div class=\"sk-parallel-item\"><div class=\"sk-item\"><div class=\"sk-label-container\"><div class=\"sk-label sk-toggleable\"><input class=\"sk-toggleable__control sk-hidden--visually\" id=\"sk-estimator-id-18\" type=\"checkbox\" ><label for=\"sk-estimator-id-18\" class=\"sk-toggleable__label sk-toggleable__label-arrow\">classifier: LogisticRegression</label><div class=\"sk-toggleable__content\"><pre>LogisticRegression()</pre></div></div></div><div class=\"sk-serial\"><div class=\"sk-item\"><div class=\"sk-estimator sk-toggleable\"><input class=\"sk-toggleable__control sk-hidden--visually\" id=\"sk-estimator-id-19\" type=\"checkbox\" ><label for=\"sk-estimator-id-19\" class=\"sk-toggleable__label sk-toggleable__label-arrow\">LogisticRegression</label><div class=\"sk-toggleable__content\"><pre>LogisticRegression()</pre></div></div></div></div></div></div></div></div></div></div>"
      ],
      "text/plain": [
       "ClassifierChain(classifier=LogisticRegression(), require_dense=[True, True])"
      ]
     },
     "execution_count": 185,
     "metadata": {},
     "output_type": "execute_result"
    }
   ],
   "source": [
    "classChain = ClassifierChain(logRegression)\n",
    "classChain.fit(input_treino_tfidf, tags_treino_mod)"
   ]
  },
  {
   "cell_type": "code",
   "execution_count": 187,
   "metadata": {},
   "outputs": [
    {
     "data": {
      "text/plain": [
       "0.514479359211337"
      ]
     },
     "execution_count": 187,
     "metadata": {},
     "output_type": "execute_result"
    }
   ],
   "source": [
    "chainResult = classChain.score(input_teste_tfidf, tags_teste_mod)\n",
    "chainResult\n"
   ]
  },
  {
   "cell_type": "code",
   "execution_count": 189,
   "metadata": {},
   "outputs": [
    {
     "data": {
      "text/plain": [
       "<1623x4 sparse matrix of type '<class 'numpy.float64'>'\n",
       "\twith 1668 stored elements in Compressed Sparse Column format>"
      ]
     },
     "execution_count": 189,
     "metadata": {},
     "output_type": "execute_result"
    }
   ],
   "source": [
    "chainPredictTest = classChain.predict(input_teste_tfidf)\n",
    "chainPredictTest"
   ]
  },
  {
   "cell_type": "code",
   "execution_count": 190,
   "metadata": {},
   "outputs": [
    {
     "data": {
      "text/plain": [
       "0.20748613678373382"
      ]
     },
     "execution_count": 190,
     "metadata": {},
     "output_type": "execute_result"
    }
   ],
   "source": [
    "chainHammingCalc = hamming_loss(tags_teste_mod, chainPredictTest)\n",
    "chainHammingCalc"
   ]
  },
  {
   "cell_type": "markdown",
   "metadata": {},
   "source": [
    "Aumentamos a acurácia mas diminuimos os acertos baseados em Hamming"
   ]
  },
  {
   "cell_type": "markdown",
   "metadata": {},
   "source": [
    "## Usando a Multilabel com relavância binária, mas agora do SKMultiLearn"
   ]
  },
  {
   "cell_type": "code",
   "execution_count": 191,
   "metadata": {},
   "outputs": [],
   "source": [
    "from skmultilearn.problem_transform import BinaryRelevance"
   ]
  },
  {
   "cell_type": "code",
   "execution_count": 192,
   "metadata": {},
   "outputs": [],
   "source": [
    "classBinRelev_SKMulti = BinaryRelevance(logRegression)"
   ]
  },
  {
   "cell_type": "code",
   "execution_count": 193,
   "metadata": {},
   "outputs": [
    {
     "data": {
      "text/html": [
       "<style>#sk-container-id-10 {color: black;background-color: white;}#sk-container-id-10 pre{padding: 0;}#sk-container-id-10 div.sk-toggleable {background-color: white;}#sk-container-id-10 label.sk-toggleable__label {cursor: pointer;display: block;width: 100%;margin-bottom: 0;padding: 0.3em;box-sizing: border-box;text-align: center;}#sk-container-id-10 label.sk-toggleable__label-arrow:before {content: \"▸\";float: left;margin-right: 0.25em;color: #696969;}#sk-container-id-10 label.sk-toggleable__label-arrow:hover:before {color: black;}#sk-container-id-10 div.sk-estimator:hover label.sk-toggleable__label-arrow:before {color: black;}#sk-container-id-10 div.sk-toggleable__content {max-height: 0;max-width: 0;overflow: hidden;text-align: left;background-color: #f0f8ff;}#sk-container-id-10 div.sk-toggleable__content pre {margin: 0.2em;color: black;border-radius: 0.25em;background-color: #f0f8ff;}#sk-container-id-10 input.sk-toggleable__control:checked~div.sk-toggleable__content {max-height: 200px;max-width: 100%;overflow: auto;}#sk-container-id-10 input.sk-toggleable__control:checked~label.sk-toggleable__label-arrow:before {content: \"▾\";}#sk-container-id-10 div.sk-estimator input.sk-toggleable__control:checked~label.sk-toggleable__label {background-color: #d4ebff;}#sk-container-id-10 div.sk-label input.sk-toggleable__control:checked~label.sk-toggleable__label {background-color: #d4ebff;}#sk-container-id-10 input.sk-hidden--visually {border: 0;clip: rect(1px 1px 1px 1px);clip: rect(1px, 1px, 1px, 1px);height: 1px;margin: -1px;overflow: hidden;padding: 0;position: absolute;width: 1px;}#sk-container-id-10 div.sk-estimator {font-family: monospace;background-color: #f0f8ff;border: 1px dotted black;border-radius: 0.25em;box-sizing: border-box;margin-bottom: 0.5em;}#sk-container-id-10 div.sk-estimator:hover {background-color: #d4ebff;}#sk-container-id-10 div.sk-parallel-item::after {content: \"\";width: 100%;border-bottom: 1px solid gray;flex-grow: 1;}#sk-container-id-10 div.sk-label:hover label.sk-toggleable__label {background-color: #d4ebff;}#sk-container-id-10 div.sk-serial::before {content: \"\";position: absolute;border-left: 1px solid gray;box-sizing: border-box;top: 0;bottom: 0;left: 50%;z-index: 0;}#sk-container-id-10 div.sk-serial {display: flex;flex-direction: column;align-items: center;background-color: white;padding-right: 0.2em;padding-left: 0.2em;position: relative;}#sk-container-id-10 div.sk-item {position: relative;z-index: 1;}#sk-container-id-10 div.sk-parallel {display: flex;align-items: stretch;justify-content: center;background-color: white;position: relative;}#sk-container-id-10 div.sk-item::before, #sk-container-id-10 div.sk-parallel-item::before {content: \"\";position: absolute;border-left: 1px solid gray;box-sizing: border-box;top: 0;bottom: 0;left: 50%;z-index: -1;}#sk-container-id-10 div.sk-parallel-item {display: flex;flex-direction: column;z-index: 1;position: relative;background-color: white;}#sk-container-id-10 div.sk-parallel-item:first-child::after {align-self: flex-end;width: 50%;}#sk-container-id-10 div.sk-parallel-item:last-child::after {align-self: flex-start;width: 50%;}#sk-container-id-10 div.sk-parallel-item:only-child::after {width: 0;}#sk-container-id-10 div.sk-dashed-wrapped {border: 1px dashed gray;margin: 0 0.4em 0.5em 0.4em;box-sizing: border-box;padding-bottom: 0.4em;background-color: white;}#sk-container-id-10 div.sk-label label {font-family: monospace;font-weight: bold;display: inline-block;line-height: 1.2em;}#sk-container-id-10 div.sk-label-container {text-align: center;}#sk-container-id-10 div.sk-container {/* jupyter's `normalize.less` sets `[hidden] { display: none; }` but bootstrap.min.css set `[hidden] { display: none !important; }` so we also need the `!important` here to be able to override the default hidden behavior on the sphinx rendered scikit-learn.org. See: https://github.com/scikit-learn/scikit-learn/issues/21755 */display: inline-block !important;position: relative;}#sk-container-id-10 div.sk-text-repr-fallback {display: none;}</style><div id=\"sk-container-id-10\" class=\"sk-top-container\"><div class=\"sk-text-repr-fallback\"><pre>OneVsRestClassifier(estimator=LogisticRegression())</pre><b>In a Jupyter environment, please rerun this cell to show the HTML representation or trust the notebook. <br />On GitHub, the HTML representation is unable to render, please try loading this page with nbviewer.org.</b></div><div class=\"sk-container\" hidden><div class=\"sk-item sk-dashed-wrapped\"><div class=\"sk-label-container\"><div class=\"sk-label sk-toggleable\"><input class=\"sk-toggleable__control sk-hidden--visually\" id=\"sk-estimator-id-20\" type=\"checkbox\" ><label for=\"sk-estimator-id-20\" class=\"sk-toggleable__label sk-toggleable__label-arrow\">OneVsRestClassifier</label><div class=\"sk-toggleable__content\"><pre>OneVsRestClassifier(estimator=LogisticRegression())</pre></div></div></div><div class=\"sk-parallel\"><div class=\"sk-parallel-item\"><div class=\"sk-item\"><div class=\"sk-label-container\"><div class=\"sk-label sk-toggleable\"><input class=\"sk-toggleable__control sk-hidden--visually\" id=\"sk-estimator-id-21\" type=\"checkbox\" ><label for=\"sk-estimator-id-21\" class=\"sk-toggleable__label sk-toggleable__label-arrow\">estimator: LogisticRegression</label><div class=\"sk-toggleable__content\"><pre>LogisticRegression()</pre></div></div></div><div class=\"sk-serial\"><div class=\"sk-item\"><div class=\"sk-estimator sk-toggleable\"><input class=\"sk-toggleable__control sk-hidden--visually\" id=\"sk-estimator-id-22\" type=\"checkbox\" ><label for=\"sk-estimator-id-22\" class=\"sk-toggleable__label sk-toggleable__label-arrow\">LogisticRegression</label><div class=\"sk-toggleable__content\"><pre>LogisticRegression()</pre></div></div></div></div></div></div></div></div></div></div>"
      ],
      "text/plain": [
       "OneVsRestClassifier(estimator=LogisticRegression())"
      ]
     },
     "execution_count": 193,
     "metadata": {},
     "output_type": "execute_result"
    }
   ],
   "source": [
    "classMultiBiRelevance.fit(input_treino_tfidf, tags_treino_mod)"
   ]
  },
  {
   "cell_type": "code",
   "execution_count": 195,
   "metadata": {},
   "outputs": [
    {
     "data": {
      "text/plain": [
       "array([[0, 0, 0, 1],\n",
       "       [1, 0, 0, 0],\n",
       "       [0, 1, 0, 0],\n",
       "       ...,\n",
       "       [1, 0, 0, 1],\n",
       "       [0, 0, 1, 0],\n",
       "       [1, 0, 0, 1]])"
      ]
     },
     "execution_count": 195,
     "metadata": {},
     "output_type": "execute_result"
    }
   ],
   "source": [
    "predictTestBiRelevanceMulti = classMultiBiRelevance.predict(input_teste_tfidf)\n",
    "predictTestBiRelevanceMulti"
   ]
  },
  {
   "cell_type": "code",
   "execution_count": 197,
   "metadata": {},
   "outputs": [
    {
     "data": {
      "text/plain": [
       "0.39802834257547753"
      ]
     },
     "execution_count": 197,
     "metadata": {},
     "output_type": "execute_result"
    }
   ],
   "source": [
    "classMultiBiRelevance_Results = classMultiBiRelevance.score(input_teste_tfidf, tags_teste_mod)\n",
    "classMultiBiRelevance_Results"
   ]
  },
  {
   "cell_type": "code",
   "execution_count": 198,
   "metadata": {},
   "outputs": [
    {
     "data": {
      "text/plain": [
       "0.1914664202094886"
      ]
     },
     "execution_count": 198,
     "metadata": {},
     "output_type": "execute_result"
    }
   ],
   "source": [
    "biRelevanceMultiHammingCalc = hamming_loss(tags_teste_mod, predictTestBiRelevanceMulti)\n",
    "biRelevanceMultiHammingCalc"
   ]
  }
 ],
 "metadata": {
  "kernelspec": {
   "display_name": "Python 3.10.4 64-bit",
   "language": "python",
   "name": "python3"
  },
  "language_info": {
   "codemirror_mode": {
    "name": "ipython",
    "version": 3
   },
   "file_extension": ".py",
   "mimetype": "text/x-python",
   "name": "python",
   "nbconvert_exporter": "python",
   "pygments_lexer": "ipython3",
   "version": "3.10.7"
  },
  "orig_nbformat": 4,
  "vscode": {
   "interpreter": {
    "hash": "369f2c481f4da34e4445cda3fffd2e751bd1c4d706f27375911949ba6bb62e1c"
   }
  }
 },
 "nbformat": 4,
 "nbformat_minor": 2
}
